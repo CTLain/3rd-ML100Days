{
 "cells": [
  {
   "cell_type": "markdown",
   "metadata": {},
   "source": [
    "## Work\n",
    "### 請結合前面的知識與程式碼，比較不同的 regularization 的組合對訓練的結果與影響：如 dropout, regularizers, batch-normalization 等"
   ]
  },
  {
   "cell_type": "code",
   "execution_count": 1,
   "metadata": {},
   "outputs": [
    {
     "name": "stderr",
     "output_type": "stream",
     "text": [
      "Using TensorFlow backend.\n"
     ]
    }
   ],
   "source": [
    "import os\n",
    "import keras\n",
    "import itertools\n",
    "# Disable GPU\n",
    "os.environ[\"CUDA_VISIBLE_DEVICES\"] = \"\""
   ]
  },
  {
   "cell_type": "code",
   "execution_count": 2,
   "metadata": {},
   "outputs": [],
   "source": [
    "train, test = keras.datasets.cifar10.load_data()"
   ]
  },
  {
   "cell_type": "code",
   "execution_count": 3,
   "metadata": {},
   "outputs": [],
   "source": [
    "## 資料前處理\n",
    "def preproc_x(x, flatten=True):\n",
    "    x = x / 255.\n",
    "    if flatten:\n",
    "        x = x.reshape((len(x), -1))\n",
    "    return x\n",
    "\n",
    "def preproc_y(y, num_classes=10):\n",
    "    if y.shape[-1] == 1:\n",
    "        y = keras.utils.to_categorical(y, num_classes)\n",
    "    return y    "
   ]
  },
  {
   "cell_type": "code",
   "execution_count": 4,
   "metadata": {},
   "outputs": [],
   "source": [
    "x_train, y_train = train\n",
    "x_test, y_test = test\n",
    "\n",
    "# Preproc the inputs\n",
    "x_train = preproc_x(x_train)\n",
    "x_test = preproc_x(x_test)\n",
    "\n",
    "# Preprc the outputs\n",
    "y_train = preproc_y(y_train)\n",
    "y_test = preproc_y(y_test)"
   ]
  },
  {
   "cell_type": "code",
   "execution_count": 12,
   "metadata": {},
   "outputs": [],
   "source": [
    "from keras.layers import Dropout\n",
    "from keras.layers import BatchNormalization\n",
    "from keras.regularizers import l1, l2, l1_l2\n",
    "\n",
    "def build_mlp(input_shape, output_units=10, num_neurons=[1024, 512, 256, 128, 64], l1_ratio=1e-12, drp_ratio = 0.1):\n",
    "    input_layer = keras.layers.Input(input_shape)\n",
    "    \n",
    "    for i, n_units in enumerate(num_neurons):\n",
    "        if i == 0:\n",
    "            x = keras.layers.Dense(units=n_units, \n",
    "                                   activation=\"relu\", \n",
    "                                   name=\"hidden_layer\"+str(i+1), \n",
    "                                   kernel_regularizer=l1(l1_ratio))(input_layer)\n",
    "            x = Dropout(drp_ratio)(x)\n",
    "        else:\n",
    "            x = BatchNormalization()(x)\n",
    "            x = keras.layers.Dense(units=n_units, \n",
    "                                   activation=\"relu\", \n",
    "                                   name=\"hidden_layer\"+str(i+1),\n",
    "                                   kernel_regularizer=l1(l1_ratio))(x)\n",
    "            x = Dropout(drp_ratio)(x)\n",
    "    \n",
    "    out = keras.layers.Dense(units=output_units, activation=\"softmax\", name=\"output\")(x)\n",
    "    \n",
    "    model = keras.models.Model(inputs=[input_layer], outputs=[out])\n",
    "    return model"
   ]
  },
  {
   "cell_type": "code",
   "execution_count": 13,
   "metadata": {},
   "outputs": [],
   "source": [
    "\"\"\"Code Here\n",
    "設定超參數\n",
    "\"\"\"\n",
    "LEARNING_RATE = 1e-3\n",
    "EPOCHS = 50\n",
    "BATCH_SIZE = 256\n",
    "MOMENTUM = 0.95\n",
    "L1_EXP = 1e-12"
   ]
  },
  {
   "cell_type": "code",
   "execution_count": 14,
   "metadata": {
    "scrolled": true
   },
   "outputs": [
    {
     "name": "stdout",
     "output_type": "stream",
     "text": [
      "Model: \"model_3\"\n",
      "_________________________________________________________________\n",
      "Layer (type)                 Output Shape              Param #   \n",
      "=================================================================\n",
      "input_3 (InputLayer)         (None, 3072)              0         \n",
      "_________________________________________________________________\n",
      "hidden_layer1 (Dense)        (None, 1024)              3146752   \n",
      "_________________________________________________________________\n",
      "dropout_9 (Dropout)          (None, 1024)              0         \n",
      "_________________________________________________________________\n",
      "batch_normalization_7 (Batch (None, 1024)              4096      \n",
      "_________________________________________________________________\n",
      "hidden_layer2 (Dense)        (None, 512)               524800    \n",
      "_________________________________________________________________\n",
      "dropout_10 (Dropout)         (None, 512)               0         \n",
      "_________________________________________________________________\n",
      "batch_normalization_8 (Batch (None, 512)               2048      \n",
      "_________________________________________________________________\n",
      "hidden_layer3 (Dense)        (None, 256)               131328    \n",
      "_________________________________________________________________\n",
      "dropout_11 (Dropout)         (None, 256)               0         \n",
      "_________________________________________________________________\n",
      "batch_normalization_9 (Batch (None, 256)               1024      \n",
      "_________________________________________________________________\n",
      "hidden_layer4 (Dense)        (None, 128)               32896     \n",
      "_________________________________________________________________\n",
      "dropout_12 (Dropout)         (None, 128)               0         \n",
      "_________________________________________________________________\n",
      "batch_normalization_10 (Batc (None, 128)               512       \n",
      "_________________________________________________________________\n",
      "hidden_layer5 (Dense)        (None, 64)                8256      \n",
      "_________________________________________________________________\n",
      "dropout_13 (Dropout)         (None, 64)                0         \n",
      "_________________________________________________________________\n",
      "output (Dense)               (None, 10)                650       \n",
      "=================================================================\n",
      "Total params: 3,852,362\n",
      "Trainable params: 3,848,522\n",
      "Non-trainable params: 3,840\n",
      "_________________________________________________________________\n",
      "Train on 50000 samples, validate on 10000 samples\n",
      "Epoch 1/50\n",
      "50000/50000 [==============================] - 29s 574us/step - loss: 2.1352 - accuracy: 0.2535 - val_loss: 1.8854 - val_accuracy: 0.3409\n",
      "Epoch 2/50\n",
      "50000/50000 [==============================] - 25s 505us/step - loss: 1.8291 - accuracy: 0.3477 - val_loss: 1.7032 - val_accuracy: 0.3892\n",
      "Epoch 3/50\n",
      "50000/50000 [==============================] - 25s 497us/step - loss: 1.7333 - accuracy: 0.3777 - val_loss: 1.6099 - val_accuracy: 0.4296\n",
      "Epoch 4/50\n",
      "50000/50000 [==============================] - 24s 487us/step - loss: 1.6730 - accuracy: 0.3982 - val_loss: 1.5777 - val_accuracy: 0.4380\n",
      "Epoch 5/50\n",
      "50000/50000 [==============================] - 25s 492us/step - loss: 1.6264 - accuracy: 0.4176 - val_loss: 1.5448 - val_accuracy: 0.4500\n",
      "Epoch 6/50\n",
      "50000/50000 [==============================] - 26s 526us/step - loss: 1.5894 - accuracy: 0.4302 - val_loss: 1.5328 - val_accuracy: 0.4513\n",
      "Epoch 7/50\n",
      "50000/50000 [==============================] - 27s 532us/step - loss: 1.5559 - accuracy: 0.4425 - val_loss: 1.5121 - val_accuracy: 0.4600\n",
      "Epoch 8/50\n",
      "50000/50000 [==============================] - 30s 593us/step - loss: 1.5298 - accuracy: 0.4501 - val_loss: 1.4810 - val_accuracy: 0.4764\n",
      "Epoch 9/50\n",
      "50000/50000 [==============================] - 27s 537us/step - loss: 1.5074 - accuracy: 0.4591 - val_loss: 1.5073 - val_accuracy: 0.4632\n",
      "Epoch 10/50\n",
      "50000/50000 [==============================] - 25s 510us/step - loss: 1.4927 - accuracy: 0.4660 - val_loss: 1.4958 - val_accuracy: 0.4743\n",
      "Epoch 11/50\n",
      "50000/50000 [==============================] - 29s 579us/step - loss: 1.4732 - accuracy: 0.4728 - val_loss: 1.4573 - val_accuracy: 0.4774\n",
      "Epoch 12/50\n",
      "50000/50000 [==============================] - 28s 558us/step - loss: 1.4628 - accuracy: 0.4753 - val_loss: 1.4678 - val_accuracy: 0.4751\n",
      "Epoch 13/50\n",
      "50000/50000 [==============================] - 25s 509us/step - loss: 1.4470 - accuracy: 0.4812 - val_loss: 1.4583 - val_accuracy: 0.4798\n",
      "Epoch 14/50\n",
      "50000/50000 [==============================] - 23s 466us/step - loss: 1.4298 - accuracy: 0.4890 - val_loss: 1.5008 - val_accuracy: 0.4710\n",
      "Epoch 15/50\n",
      "50000/50000 [==============================] - 23s 466us/step - loss: 1.4152 - accuracy: 0.4908 - val_loss: 1.4533 - val_accuracy: 0.4852\n",
      "Epoch 16/50\n",
      "50000/50000 [==============================] - 23s 470us/step - loss: 1.4031 - accuracy: 0.4976 - val_loss: 1.4362 - val_accuracy: 0.4872\n",
      "Epoch 17/50\n",
      "50000/50000 [==============================] - 23s 468us/step - loss: 1.3964 - accuracy: 0.4977 - val_loss: 1.4478 - val_accuracy: 0.4799\n",
      "Epoch 18/50\n",
      "50000/50000 [==============================] - 24s 485us/step - loss: 1.3809 - accuracy: 0.5036 - val_loss: 1.4216 - val_accuracy: 0.4959\n",
      "Epoch 19/50\n",
      "50000/50000 [==============================] - 24s 472us/step - loss: 1.3693 - accuracy: 0.5115 - val_loss: 1.3976 - val_accuracy: 0.4990\n",
      "Epoch 20/50\n",
      "50000/50000 [==============================] - 23s 467us/step - loss: 1.3517 - accuracy: 0.5161 - val_loss: 1.4114 - val_accuracy: 0.4945\n",
      "Epoch 21/50\n",
      "50000/50000 [==============================] - 24s 473us/step - loss: 1.3505 - accuracy: 0.5160 - val_loss: 1.4670 - val_accuracy: 0.4778\n",
      "Epoch 22/50\n",
      "50000/50000 [==============================] - 23s 465us/step - loss: 1.3334 - accuracy: 0.5213 - val_loss: 1.3904 - val_accuracy: 0.5044\n",
      "Epoch 23/50\n",
      "50000/50000 [==============================] - 23s 464us/step - loss: 1.3291 - accuracy: 0.5203 - val_loss: 1.3977 - val_accuracy: 0.5027\n",
      "Epoch 24/50\n",
      "50000/50000 [==============================] - 23s 463us/step - loss: 1.3243 - accuracy: 0.5275 - val_loss: 1.4001 - val_accuracy: 0.5021\n",
      "Epoch 25/50\n",
      "50000/50000 [==============================] - 23s 465us/step - loss: 1.3105 - accuracy: 0.5286 - val_loss: 1.3799 - val_accuracy: 0.5044\n",
      "Epoch 26/50\n",
      "50000/50000 [==============================] - 24s 490us/step - loss: 1.3072 - accuracy: 0.5320 - val_loss: 1.3833 - val_accuracy: 0.5058\n",
      "Epoch 27/50\n",
      "50000/50000 [==============================] - 23s 464us/step - loss: 1.2894 - accuracy: 0.5379 - val_loss: 1.4168 - val_accuracy: 0.4934\n",
      "Epoch 28/50\n",
      "50000/50000 [==============================] - 23s 464us/step - loss: 1.2887 - accuracy: 0.5400 - val_loss: 1.3904 - val_accuracy: 0.5100\n",
      "Epoch 29/50\n",
      "50000/50000 [==============================] - 23s 465us/step - loss: 1.2787 - accuracy: 0.5415 - val_loss: 1.3632 - val_accuracy: 0.5158\n",
      "Epoch 30/50\n",
      "50000/50000 [==============================] - 23s 462us/step - loss: 1.2666 - accuracy: 0.5461 - val_loss: 1.4320 - val_accuracy: 0.4875\n",
      "Epoch 31/50\n",
      "50000/50000 [==============================] - 23s 464us/step - loss: 1.2686 - accuracy: 0.5460 - val_loss: 1.4078 - val_accuracy: 0.5028\n",
      "Epoch 32/50\n",
      "50000/50000 [==============================] - 24s 474us/step - loss: 1.2661 - accuracy: 0.5446 - val_loss: 1.4023 - val_accuracy: 0.5068\n",
      "Epoch 33/50\n",
      "50000/50000 [==============================] - 23s 465us/step - loss: 1.2554 - accuracy: 0.5510 - val_loss: 1.3786 - val_accuracy: 0.5052\n",
      "Epoch 34/50\n",
      "50000/50000 [==============================] - 23s 466us/step - loss: 1.2454 - accuracy: 0.5546 - val_loss: 1.4312 - val_accuracy: 0.4885\n",
      "Epoch 35/50\n",
      "50000/50000 [==============================] - 23s 464us/step - loss: 1.2528 - accuracy: 0.5517 - val_loss: 1.5710 - val_accuracy: 0.4637\n",
      "Epoch 36/50\n",
      "50000/50000 [==============================] - 23s 463us/step - loss: 1.2313 - accuracy: 0.5572 - val_loss: 1.3811 - val_accuracy: 0.5155\n",
      "Epoch 37/50\n",
      "50000/50000 [==============================] - 23s 463us/step - loss: 1.2272 - accuracy: 0.5613 - val_loss: 1.3493 - val_accuracy: 0.5210\n",
      "Epoch 38/50\n",
      "50000/50000 [==============================] - 23s 464us/step - loss: 1.2097 - accuracy: 0.5665 - val_loss: 1.4381 - val_accuracy: 0.4871\n"
     ]
    },
    {
     "name": "stdout",
     "output_type": "stream",
     "text": [
      "Epoch 39/50\n",
      "50000/50000 [==============================] - 24s 482us/step - loss: 1.2195 - accuracy: 0.5634 - val_loss: 1.3843 - val_accuracy: 0.5023\n",
      "Epoch 40/50\n",
      "50000/50000 [==============================] - 24s 476us/step - loss: 1.2115 - accuracy: 0.5672 - val_loss: 1.3710 - val_accuracy: 0.5128\n",
      "Epoch 41/50\n",
      "50000/50000 [==============================] - 23s 464us/step - loss: 1.2006 - accuracy: 0.5720 - val_loss: 1.3861 - val_accuracy: 0.5115\n",
      "Epoch 42/50\n",
      "50000/50000 [==============================] - 25s 492us/step - loss: 1.1937 - accuracy: 0.5747 - val_loss: 1.3814 - val_accuracy: 0.5067\n",
      "Epoch 43/50\n",
      "50000/50000 [==============================] - 23s 465us/step - loss: 1.2012 - accuracy: 0.5697 - val_loss: 1.3900 - val_accuracy: 0.5079\n",
      "Epoch 44/50\n",
      "50000/50000 [==============================] - 23s 468us/step - loss: 1.1859 - accuracy: 0.5742 - val_loss: 1.3812 - val_accuracy: 0.5207\n",
      "Epoch 45/50\n",
      "50000/50000 [==============================] - 24s 476us/step - loss: 1.1730 - accuracy: 0.5804 - val_loss: 1.4009 - val_accuracy: 0.5099\n",
      "Epoch 46/50\n",
      "50000/50000 [==============================] - 23s 468us/step - loss: 1.1756 - accuracy: 0.5786 - val_loss: 1.3576 - val_accuracy: 0.5234\n",
      "Epoch 47/50\n",
      "50000/50000 [==============================] - 23s 464us/step - loss: 1.1703 - accuracy: 0.5813 - val_loss: 1.3777 - val_accuracy: 0.5256\n",
      "Epoch 48/50\n",
      "50000/50000 [==============================] - 24s 474us/step - loss: 1.1595 - accuracy: 0.5856 - val_loss: 1.4098 - val_accuracy: 0.5088\n",
      "Epoch 49/50\n",
      "50000/50000 [==============================] - 23s 464us/step - loss: 1.1468 - accuracy: 0.5872 - val_loss: 1.4684 - val_accuracy: 0.4862\n",
      "Epoch 50/50\n",
      "50000/50000 [==============================] - 23s 461us/step - loss: 1.1450 - accuracy: 0.5896 - val_loss: 1.3620 - val_accuracy: 0.5217\n"
     ]
    }
   ],
   "source": [
    "results = {}\n",
    "\"\"\"Code Here\n",
    "撰寫你的訓練流程並將結果用 dictionary 紀錄\n",
    "\"\"\"\n",
    "model = build_mlp(input_shape=x_train.shape[1:])\n",
    "model.summary()\n",
    "optimizer = keras.optimizers.SGD(lr=LEARNING_RATE, nesterov=True, momentum=MOMENTUM)\n",
    "model.compile(loss=\"categorical_crossentropy\", metrics=[\"accuracy\"], optimizer=optimizer)\n",
    "\n",
    "model.fit(x_train, y_train, \n",
    "          epochs=EPOCHS, \n",
    "          batch_size=BATCH_SIZE, \n",
    "          validation_data=(x_test, y_test), \n",
    "          shuffle=True)\n",
    "\n",
    "# Collect results\n",
    "train_loss = model.history.history[\"loss\"]\n",
    "valid_loss = model.history.history[\"val_loss\"]\n",
    "train_acc = model.history.history[\"accuracy\"]\n",
    "valid_acc = model.history.history[\"val_accuracy\"]"
   ]
  },
  {
   "cell_type": "code",
   "execution_count": 15,
   "metadata": {},
   "outputs": [
    {
     "data": {
      "image/png": "[encoded data removed]",
      "text/plain": [
       "<Figure size 432x288 with 1 Axes>"
      ]
     },
     "metadata": {
      "needs_background": "light"
     },
     "output_type": "display_data"
    },
    {
     "data": {
      "image/png": "[encoded data removed]",
      "text/plain": [
       "<Figure size 432x288 with 1 Axes>"
      ]
     },
     "metadata": {
      "needs_background": "light"
     },
     "output_type": "display_data"
    }
   ],
   "source": [
    "import matplotlib.pyplot as plt\n",
    "%matplotlib inline\n",
    "\n",
    "plt.plot(range(len(train_loss)), train_loss, label=\"train loss\")\n",
    "plt.plot(range(len(valid_loss)), valid_loss, label=\"valid loss\")\n",
    "plt.legend()\n",
    "plt.title(\"Loss\")\n",
    "plt.show()\n",
    "\n",
    "plt.plot(range(len(train_acc)), train_acc, label=\"train accuracy\")\n",
    "plt.plot(range(len(valid_acc)), valid_acc, label=\"valid accuracy\")\n",
    "plt.legend()\n",
    "plt.title(\"Accuracy\")\n",
    "plt.show()"
   ]
  },
  {
   "cell_type": "code",
   "execution_count": null,
   "metadata": {},
   "outputs": [],
   "source": []
  }
 ],
 "metadata": {
  "kernelspec": {
   "display_name": "Python 3",
   "language": "python",
   "name": "python3"
  },
  "language_info": {
   "codemirror_mode": {
    "name": "ipython",
    "version": 3
   },
   "file_extension": ".py",
   "mimetype": "text/x-python",
   "name": "python",
   "nbconvert_exporter": "python",
   "pygments_lexer": "ipython3",
   "version": "3.7.1"
  }
 },
 "nbformat": 4,
 "nbformat_minor": 2
}
