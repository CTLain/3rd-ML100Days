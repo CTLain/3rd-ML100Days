{
 "cells": [
  {
   "cell_type": "markdown",
   "metadata": {},
   "source": [
    "## Work\n",
    "1. 試比較有 BN 在 Batch_size = 2, 16, 32, 128, 256 下的差異\n",
    "2. 請嘗試將 BN 放在 Activation 之前，並比較訓練結果\n",
    "3. 請於 BN 放在 Input Layer 後，並比較結果"
   ]
  },
  {
   "cell_type": "code",
   "execution_count": 9,
   "metadata": {},
   "outputs": [],
   "source": [
    "import os\n",
    "import keras\n",
    "import itertools\n",
    "# Disable GPU\n",
    "os.environ[\"CUDA_VISIBLE_DEVICES\"] = \"\""
   ]
  },
  {
   "cell_type": "code",
   "execution_count": 10,
   "metadata": {},
   "outputs": [],
   "source": [
    "train, test = keras.datasets.cifar10.load_data()"
   ]
  },
  {
   "cell_type": "code",
   "execution_count": 11,
   "metadata": {},
   "outputs": [],
   "source": [
    "## 資料前處理\n",
    "def preproc_x(x, flatten=True):\n",
    "    x = x / 255.\n",
    "    if flatten:\n",
    "        x = x.reshape((len(x), -1))\n",
    "    return x\n",
    "\n",
    "def preproc_y(y, num_classes=10):\n",
    "    if y.shape[-1] == 1:\n",
    "        y = keras.utils.to_categorical(y, num_classes)\n",
    "    return y    "
   ]
  },
  {
   "cell_type": "code",
   "execution_count": 12,
   "metadata": {},
   "outputs": [],
   "source": [
    "x_train, y_train = train\n",
    "x_test, y_test = test\n",
    "\n",
    "# Preproc the inputs\n",
    "x_train = preproc_x(x_train)\n",
    "x_test = preproc_x(x_test)\n",
    "\n",
    "# Preprc the outputs\n",
    "y_train = preproc_y(y_train)\n",
    "y_test = preproc_y(y_test)"
   ]
  },
  {
   "cell_type": "code",
   "execution_count": 24,
   "metadata": {},
   "outputs": [],
   "source": [
    "from keras.layers import BatchNormalization\n",
    "\n",
    "def build_mlp(input_shape, output_units=10, num_neurons=[512, 256, 128]):\n",
    "    input_layer = keras.layers.Input(input_shape)\n",
    "    \n",
    "    for i, n_units in enumerate(num_neurons):\n",
    "        if i == 0:\n",
    "\n",
    "            x = keras.layers.Dense(units=n_units, \n",
    "                                   activation=\"relu\", \n",
    "                                   name=\"hidden_layer\"+str(i+1))(input_layer)\n",
    "        else:\n",
    "            x = BatchNormalization()(x)\n",
    "            x = keras.layers.Dense(units=n_units, \n",
    "                                   activation=\"relu\", \n",
    "                                   name=\"hidden_layer\"+str(i+1))(x)\n",
    "\n",
    "    \n",
    "    out = keras.layers.Dense(units=output_units, activation=\"softmax\", name=\"output\")(x)\n",
    "    \n",
    "    model = keras.models.Model(inputs=[input_layer], outputs=[out])\n",
    "    return model"
   ]
  },
  {
   "cell_type": "code",
   "execution_count": 25,
   "metadata": {},
   "outputs": [],
   "source": [
    "\"\"\"Code Here\n",
    "設定超參數\n",
    "\"\"\"\n",
    "LEARNING_RATE = 1e-3\n",
    "EPOCHS = 50\n",
    "BATCH_SIZE = 1024\n",
    "MOMENTUM = 0.95"
   ]
  },
  {
   "cell_type": "code",
   "execution_count": 26,
   "metadata": {
    "scrolled": true
   },
   "outputs": [
    {
     "name": "stdout",
     "output_type": "stream",
     "text": [
      "Model: \"model_4\"\n",
      "_________________________________________________________________\n",
      "Layer (type)                 Output Shape              Param #   \n",
      "=================================================================\n",
      "input_5 (InputLayer)         (None, 3072)              0         \n",
      "_________________________________________________________________\n",
      "hidden_layer1 (Dense)        (None, 512)               1573376   \n",
      "_________________________________________________________________\n",
      "batch_normalization_15 (Batc (None, 512)               2048      \n",
      "_________________________________________________________________\n",
      "hidden_layer2 (Dense)        (None, 256)               131328    \n",
      "_________________________________________________________________\n",
      "batch_normalization_16 (Batc (None, 256)               1024      \n",
      "_________________________________________________________________\n",
      "hidden_layer3 (Dense)        (None, 128)               32896     \n",
      "_________________________________________________________________\n",
      "output (Dense)               (None, 10)                1290      \n",
      "=================================================================\n",
      "Total params: 1,741,962\n",
      "Trainable params: 1,740,426\n",
      "Non-trainable params: 1,536\n",
      "_________________________________________________________________\n",
      "Train on 50000 samples, validate on 10000 samples\n",
      "Epoch 1/50\n",
      "50000/50000 [==============================] - 7s 143us/step - loss: 2.1724 - accuracy: 0.2583 - val_loss: 2.1197 - val_accuracy: 0.1983\n",
      "Epoch 2/50\n",
      "50000/50000 [==============================] - 7s 131us/step - loss: 1.7502 - accuracy: 0.3851 - val_loss: 1.9761 - val_accuracy: 0.2958\n",
      "Epoch 3/50\n",
      "50000/50000 [==============================] - 7s 131us/step - loss: 1.6364 - accuracy: 0.4254 - val_loss: 1.8457 - val_accuracy: 0.3619\n",
      "Epoch 4/50\n",
      "50000/50000 [==============================] - 7s 130us/step - loss: 1.5672 - accuracy: 0.4507 - val_loss: 1.7397 - val_accuracy: 0.3984\n",
      "Epoch 5/50\n",
      "50000/50000 [==============================] - 7s 130us/step - loss: 1.5155 - accuracy: 0.4696 - val_loss: 1.6671 - val_accuracy: 0.4218\n",
      "Epoch 6/50\n",
      "50000/50000 [==============================] - 7s 130us/step - loss: 1.4710 - accuracy: 0.4878 - val_loss: 1.6041 - val_accuracy: 0.4434\n",
      "Epoch 7/50\n",
      "50000/50000 [==============================] - 6s 130us/step - loss: 1.4337 - accuracy: 0.5010 - val_loss: 1.5650 - val_accuracy: 0.4521\n",
      "Epoch 8/50\n",
      "50000/50000 [==============================] - 6s 130us/step - loss: 1.4014 - accuracy: 0.5119 - val_loss: 1.5320 - val_accuracy: 0.4654\n",
      "Epoch 9/50\n",
      "50000/50000 [==============================] - 6s 129us/step - loss: 1.3702 - accuracy: 0.5236 - val_loss: 1.5219 - val_accuracy: 0.4589\n",
      "Epoch 10/50\n",
      "50000/50000 [==============================] - 7s 131us/step - loss: 1.3440 - accuracy: 0.5333 - val_loss: 1.4950 - val_accuracy: 0.4710\n",
      "Epoch 11/50\n",
      "50000/50000 [==============================] - 7s 130us/step - loss: 1.3173 - accuracy: 0.5426 - val_loss: 1.4858 - val_accuracy: 0.4767\n",
      "Epoch 12/50\n",
      "50000/50000 [==============================] - 7s 130us/step - loss: 1.2925 - accuracy: 0.5503 - val_loss: 1.4731 - val_accuracy: 0.4818\n",
      "Epoch 13/50\n",
      "50000/50000 [==============================] - 6s 130us/step - loss: 1.2684 - accuracy: 0.5608 - val_loss: 1.4679 - val_accuracy: 0.4738\n",
      "Epoch 14/50\n",
      "50000/50000 [==============================] - 6s 129us/step - loss: 1.2481 - accuracy: 0.5676 - val_loss: 1.4549 - val_accuracy: 0.4841\n",
      "Epoch 15/50\n",
      "50000/50000 [==============================] - 6s 130us/step - loss: 1.2268 - accuracy: 0.5747 - val_loss: 1.4490 - val_accuracy: 0.4886\n",
      "Epoch 16/50\n",
      "50000/50000 [==============================] - 7s 130us/step - loss: 1.2058 - accuracy: 0.5836 - val_loss: 1.4488 - val_accuracy: 0.4895\n",
      "Epoch 17/50\n",
      "50000/50000 [==============================] - 7s 132us/step - loss: 1.1850 - accuracy: 0.5915 - val_loss: 1.4371 - val_accuracy: 0.4931\n",
      "Epoch 18/50\n",
      "50000/50000 [==============================] - 7s 131us/step - loss: 1.1652 - accuracy: 0.5985 - val_loss: 1.4360 - val_accuracy: 0.4913\n",
      "Epoch 19/50\n",
      "50000/50000 [==============================] - 6s 130us/step - loss: 1.1463 - accuracy: 0.6065 - val_loss: 1.4291 - val_accuracy: 0.4931\n",
      "Epoch 20/50\n",
      "50000/50000 [==============================] - 6s 129us/step - loss: 1.1271 - accuracy: 0.6149 - val_loss: 1.4281 - val_accuracy: 0.4942\n",
      "Epoch 21/50\n",
      "50000/50000 [==============================] - 6s 129us/step - loss: 1.1088 - accuracy: 0.6215 - val_loss: 1.4209 - val_accuracy: 0.4969\n",
      "Epoch 22/50\n",
      "50000/50000 [==============================] - 6s 129us/step - loss: 1.0913 - accuracy: 0.6276 - val_loss: 1.4245 - val_accuracy: 0.4972\n",
      "Epoch 23/50\n",
      "50000/50000 [==============================] - 7s 130us/step - loss: 1.0723 - accuracy: 0.6355 - val_loss: 1.4190 - val_accuracy: 0.5007\n",
      "Epoch 24/50\n",
      "50000/50000 [==============================] - 6s 129us/step - loss: 1.0553 - accuracy: 0.6415 - val_loss: 1.4200 - val_accuracy: 0.5018\n",
      "Epoch 25/50\n",
      "50000/50000 [==============================] - 6s 129us/step - loss: 1.0368 - accuracy: 0.6469 - val_loss: 1.4208 - val_accuracy: 0.5010\n",
      "Epoch 26/50\n",
      "50000/50000 [==============================] - 6s 129us/step - loss: 1.0195 - accuracy: 0.6559 - val_loss: 1.4259 - val_accuracy: 0.4967\n",
      "Epoch 27/50\n",
      "50000/50000 [==============================] - 6s 129us/step - loss: 1.0036 - accuracy: 0.6606 - val_loss: 1.4187 - val_accuracy: 0.5064\n",
      "Epoch 28/50\n",
      "50000/50000 [==============================] - 6s 129us/step - loss: 0.9853 - accuracy: 0.6686 - val_loss: 1.4264 - val_accuracy: 0.5031\n",
      "Epoch 29/50\n",
      "50000/50000 [==============================] - 6s 129us/step - loss: 0.9688 - accuracy: 0.6740 - val_loss: 1.4162 - val_accuracy: 0.5036\n",
      "Epoch 30/50\n",
      "50000/50000 [==============================] - 6s 130us/step - loss: 0.9503 - accuracy: 0.6826 - val_loss: 1.4271 - val_accuracy: 0.5066\n",
      "Epoch 31/50\n",
      "50000/50000 [==============================] - 6s 130us/step - loss: 0.9326 - accuracy: 0.6890 - val_loss: 1.4332 - val_accuracy: 0.4988\n",
      "Epoch 32/50\n",
      "50000/50000 [==============================] - 6s 130us/step - loss: 0.9176 - accuracy: 0.6947 - val_loss: 1.4268 - val_accuracy: 0.5026\n",
      "Epoch 33/50\n",
      "50000/50000 [==============================] - 6s 130us/step - loss: 0.9018 - accuracy: 0.6999 - val_loss: 1.4366 - val_accuracy: 0.5046\n",
      "Epoch 34/50\n",
      "50000/50000 [==============================] - 7s 130us/step - loss: 0.8840 - accuracy: 0.7079 - val_loss: 1.4419 - val_accuracy: 0.4995\n",
      "Epoch 35/50\n",
      "50000/50000 [==============================] - 7s 132us/step - loss: 0.8665 - accuracy: 0.7140 - val_loss: 1.4350 - val_accuracy: 0.5050\n",
      "Epoch 36/50\n",
      "50000/50000 [==============================] - 6s 130us/step - loss: 0.8513 - accuracy: 0.7204 - val_loss: 1.4523 - val_accuracy: 0.5006\n",
      "Epoch 37/50\n",
      "50000/50000 [==============================] - 7s 131us/step - loss: 0.8342 - accuracy: 0.7271 - val_loss: 1.4553 - val_accuracy: 0.5010\n",
      "Epoch 38/50\n",
      "50000/50000 [==============================] - 6s 129us/step - loss: 0.8194 - accuracy: 0.7331 - val_loss: 1.4686 - val_accuracy: 0.5020\n",
      "Epoch 39/50\n",
      "50000/50000 [==============================] - 7s 135us/step - loss: 0.8028 - accuracy: 0.7391 - val_loss: 1.4644 - val_accuracy: 0.5007\n",
      "Epoch 40/50\n",
      "50000/50000 [==============================] - 7s 132us/step - loss: 0.7861 - accuracy: 0.7461 - val_loss: 1.4513 - val_accuracy: 0.5090\n",
      "Epoch 41/50\n",
      "50000/50000 [==============================] - 6s 130us/step - loss: 0.7706 - accuracy: 0.7520 - val_loss: 1.4718 - val_accuracy: 0.5062\n",
      "Epoch 42/50\n",
      "50000/50000 [==============================] - 6s 129us/step - loss: 0.7560 - accuracy: 0.7593 - val_loss: 1.4738 - val_accuracy: 0.5033\n",
      "Epoch 43/50\n",
      "50000/50000 [==============================] - 6s 129us/step - loss: 0.7399 - accuracy: 0.7648 - val_loss: 1.4812 - val_accuracy: 0.5033\n",
      "Epoch 44/50\n",
      "50000/50000 [==============================] - 6s 129us/step - loss: 0.7234 - accuracy: 0.7707 - val_loss: 1.4966 - val_accuracy: 0.5008\n",
      "Epoch 45/50\n",
      "50000/50000 [==============================] - 8s 151us/step - loss: 0.7075 - accuracy: 0.7774 - val_loss: 1.4878 - val_accuracy: 0.5060\n",
      "Epoch 46/50\n",
      "50000/50000 [==============================] - 7s 135us/step - loss: 0.6923 - accuracy: 0.7827 - val_loss: 1.4942 - val_accuracy: 0.5054\n",
      "Epoch 47/50\n"
     ]
    },
    {
     "name": "stdout",
     "output_type": "stream",
     "text": [
      "50000/50000 [==============================] - 6s 128us/step - loss: 0.6762 - accuracy: 0.7897 - val_loss: 1.5233 - val_accuracy: 0.4978\n",
      "Epoch 48/50\n",
      "50000/50000 [==============================] - 6s 129us/step - loss: 0.6636 - accuracy: 0.7939 - val_loss: 1.5227 - val_accuracy: 0.5048\n",
      "Epoch 49/50\n",
      "50000/50000 [==============================] - 6s 129us/step - loss: 0.6475 - accuracy: 0.8015 - val_loss: 1.5424 - val_accuracy: 0.4988\n",
      "Epoch 50/50\n",
      "50000/50000 [==============================] - 6s 128us/step - loss: 0.6319 - accuracy: 0.8068 - val_loss: 1.5407 - val_accuracy: 0.5043\n"
     ]
    }
   ],
   "source": [
    "results = {}\n",
    "\"\"\"Code Here\n",
    "撰寫你的訓練流程並將結果用 dictionary 紀錄\n",
    "\"\"\"\n",
    "model = build_mlp(input_shape=x_train.shape[1:])\n",
    "model.summary()\n",
    "optimizer = keras.optimizers.SGD(lr=LEARNING_RATE, nesterov=True, momentum=MOMENTUM)\n",
    "model.compile(loss=\"categorical_crossentropy\", metrics=[\"accuracy\"], optimizer=optimizer)\n",
    "\n",
    "model.fit(x_train, y_train, \n",
    "          epochs=EPOCHS, \n",
    "          batch_size=BATCH_SIZE, \n",
    "          validation_data=(x_test, y_test), \n",
    "          shuffle=True)\n",
    "\n",
    "# Collect results\n",
    "train_loss = model.history.history[\"loss\"]\n",
    "valid_loss = model.history.history[\"val_loss\"]\n",
    "train_acc = model.history.history[\"accuracy\"]\n",
    "valid_acc = model.history.history[\"val_accuracy\"]"
   ]
  },
  {
   "cell_type": "code",
   "execution_count": 27,
   "metadata": {},
   "outputs": [
    {
     "data": {
      "image/png": "[encoded data removed]",
      "text/plain": [
       "<Figure size 432x288 with 1 Axes>"
      ]
     },
     "metadata": {
      "needs_background": "light"
     },
     "output_type": "display_data"
    },
    {
     "data": {
      "image/png": "[encoded data removed]",
      "text/plain": [
       "<Figure size 432x288 with 1 Axes>"
      ]
     },
     "metadata": {
      "needs_background": "light"
     },
     "output_type": "display_data"
    }
   ],
   "source": [
    "import matplotlib.pyplot as plt\n",
    "%matplotlib inline\n",
    "\n",
    "plt.plot(range(len(train_loss)), train_loss, label=\"train loss\")\n",
    "plt.plot(range(len(valid_loss)), valid_loss, label=\"valid loss\")\n",
    "plt.legend()\n",
    "plt.title(\"Loss\")\n",
    "plt.show()\n",
    "\n",
    "plt.plot(range(len(train_acc)), train_acc, label=\"train accuracy\")\n",
    "plt.plot(range(len(valid_acc)), valid_acc, label=\"valid accuracy\")\n",
    "plt.legend()\n",
    "plt.title(\"Accuracy\")\n",
    "plt.show()"
   ]
  },
  {
   "cell_type": "code",
   "execution_count": null,
   "metadata": {},
   "outputs": [],
   "source": [
    "1. batch size變小的情況下, accuracy變差\n",
    "2. BN在input layer之後, accuracy略高一點點\n"
   ]
  }
 ],
 "metadata": {
  "kernelspec": {
   "display_name": "Python 3",
   "language": "python",
   "name": "python3"
  },
  "language_info": {
   "codemirror_mode": {
    "name": "ipython",
    "version": 3
   },
   "file_extension": ".py",
   "mimetype": "text/x-python",
   "name": "python",
   "nbconvert_exporter": "python",
   "pygments_lexer": "ipython3",
   "version": "3.7.1"
  }
 },
 "nbformat": 4,
 "nbformat_minor": 2
}
