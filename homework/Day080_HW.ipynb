{
 "cells": [
  {
   "cell_type": "markdown",
   "metadata": {},
   "source": [
    "# 請結合前面的知識與程式碼，比較不同的 optimizer 與 learning rate 組合對訓練的結果與影響\n",
    "### 常見的 optimizer 包含\n",
    "* SGD\n",
    "* RMSprop\n",
    "* AdaGrad\n",
    "* Adam"
   ]
  },
  {
   "cell_type": "code",
   "execution_count": 4,
   "metadata": {},
   "outputs": [],
   "source": [
    "import os\n",
    "import keras\n",
    "\n",
    "# Disable GPU\n",
    "os.environ[\"CUDA_VISIBLE_DEVICES\"] = \"\""
   ]
  },
  {
   "cell_type": "code",
   "execution_count": 5,
   "metadata": {},
   "outputs": [],
   "source": [
    "train, test = keras.datasets.cifar10.load_data()"
   ]
  },
  {
   "cell_type": "code",
   "execution_count": 6,
   "metadata": {},
   "outputs": [],
   "source": [
    "## 資料前處理\n",
    "def preproc_x(x, flatten=True):\n",
    "    x = x / 255.\n",
    "    if flatten:\n",
    "        x = x.reshape((len(x), -1))\n",
    "    return x\n",
    "\n",
    "def preproc_y(y, num_classes=10):\n",
    "    if y.shape[-1] == 1:\n",
    "        y = keras.utils.to_categorical(y, num_classes)\n",
    "    return y    "
   ]
  },
  {
   "cell_type": "code",
   "execution_count": 7,
   "metadata": {},
   "outputs": [],
   "source": [
    "x_train, y_train = train\n",
    "x_test, y_test = test\n",
    "\n",
    "# Preproc the inputs\n",
    "x_train = preproc_x(x_train)\n",
    "x_test = preproc_x(x_test)\n",
    "\n",
    "# Preprc the outputs\n",
    "y_train = preproc_y(y_train)\n",
    "y_test = preproc_y(y_test)"
   ]
  },
  {
   "cell_type": "code",
   "execution_count": 8,
   "metadata": {},
   "outputs": [],
   "source": [
    "def build_mlp():\n",
    "    \"\"\"\n",
    "    Build your own model\n",
    "    \"\"\"\n",
    "    input_layer = keras.layers.Input([x_train.shape[-1]])\n",
    "    x = keras.layers.Dense(units=512, activation=\"relu\")(input_layer)\n",
    "    x = keras.layers.Dense(units=256, activation=\"relu\")(x)\n",
    "    x = keras.layers.Dense(units=128, activation=\"relu\")(x)\n",
    "    out = keras.layers.Dense(units=10, activation=\"softmax\")(x)\n",
    "    \n",
    "    model = keras.models.Model(inputs=[input_layer], outputs=[out])\n",
    "    \n",
    "    return model"
   ]
  },
  {
   "cell_type": "code",
   "execution_count": 10,
   "metadata": {},
   "outputs": [
    {
     "name": "stdout",
     "output_type": "stream",
     "text": [
      "Train on 50000 samples, validate on 10000 samples\n",
      "Epoch 1/50\n",
      "50000/50000 [==============================] - 10s 195us/step - loss: 1.9578 - accuracy: 0.2942 - val_loss: 1.7553 - val_accuracy: 0.3645\n",
      "Epoch 2/50\n",
      "50000/50000 [==============================] - 9s 190us/step - loss: 1.7145 - accuracy: 0.3842 - val_loss: 1.7018 - val_accuracy: 0.3931\n",
      "Epoch 3/50\n",
      "50000/50000 [==============================] - 9s 188us/step - loss: 1.6190 - accuracy: 0.4224 - val_loss: 1.5676 - val_accuracy: 0.4378\n",
      "Epoch 4/50\n",
      "50000/50000 [==============================] - 9s 188us/step - loss: 1.5559 - accuracy: 0.4466 - val_loss: 1.5604 - val_accuracy: 0.4338\n",
      "Epoch 5/50\n",
      "50000/50000 [==============================] - 9s 189us/step - loss: 1.5055 - accuracy: 0.4643 - val_loss: 1.5294 - val_accuracy: 0.4573\n",
      "Epoch 6/50\n",
      "50000/50000 [==============================] - 9s 189us/step - loss: 1.4718 - accuracy: 0.4753 - val_loss: 1.4936 - val_accuracy: 0.4626\n",
      "Epoch 7/50\n",
      "50000/50000 [==============================] - 10s 191us/step - loss: 1.4409 - accuracy: 0.4825 - val_loss: 1.5093 - val_accuracy: 0.4636\n",
      "Epoch 8/50\n",
      "50000/50000 [==============================] - 9s 189us/step - loss: 1.4168 - accuracy: 0.4942 - val_loss: 1.4498 - val_accuracy: 0.4810\n",
      "Epoch 9/50\n",
      "50000/50000 [==============================] - 9s 188us/step - loss: 1.3779 - accuracy: 0.5086 - val_loss: 1.4523 - val_accuracy: 0.4826\n",
      "Epoch 10/50\n",
      "50000/50000 [==============================] - 9s 189us/step - loss: 1.3601 - accuracy: 0.5162 - val_loss: 1.4323 - val_accuracy: 0.4919\n",
      "Epoch 11/50\n",
      "50000/50000 [==============================] - 9s 189us/step - loss: 1.3350 - accuracy: 0.5248 - val_loss: 1.4122 - val_accuracy: 0.4961\n",
      "Epoch 12/50\n",
      "50000/50000 [==============================] - 9s 190us/step - loss: 1.3161 - accuracy: 0.5292 - val_loss: 1.4485 - val_accuracy: 0.4874\n",
      "Epoch 13/50\n",
      "50000/50000 [==============================] - 9s 190us/step - loss: 1.2910 - accuracy: 0.5377 - val_loss: 1.3902 - val_accuracy: 0.5029\n",
      "Epoch 14/50\n",
      "50000/50000 [==============================] - 9s 190us/step - loss: 1.2592 - accuracy: 0.5504 - val_loss: 1.3871 - val_accuracy: 0.5045\n",
      "Epoch 15/50\n",
      "50000/50000 [==============================] - 9s 190us/step - loss: 1.2414 - accuracy: 0.5563 - val_loss: 1.3797 - val_accuracy: 0.5106\n",
      "Epoch 16/50\n",
      "50000/50000 [==============================] - 10s 190us/step - loss: 1.2241 - accuracy: 0.5649 - val_loss: 1.3794 - val_accuracy: 0.5152\n",
      "Epoch 17/50\n",
      "50000/50000 [==============================] - 9s 189us/step - loss: 1.2031 - accuracy: 0.5707 - val_loss: 1.3944 - val_accuracy: 0.5144\n",
      "Epoch 18/50\n",
      "50000/50000 [==============================] - 10s 197us/step - loss: 1.1908 - accuracy: 0.5744 - val_loss: 1.4122 - val_accuracy: 0.5118\n",
      "Epoch 19/50\n",
      "50000/50000 [==============================] - 10s 209us/step - loss: 1.1644 - accuracy: 0.5863 - val_loss: 1.3865 - val_accuracy: 0.5145\n",
      "Epoch 20/50\n",
      "50000/50000 [==============================] - 10s 190us/step - loss: 1.1395 - accuracy: 0.5941 - val_loss: 1.3556 - val_accuracy: 0.5310\n",
      "Epoch 21/50\n",
      "50000/50000 [==============================] - 10s 190us/step - loss: 1.1231 - accuracy: 0.6006 - val_loss: 1.3689 - val_accuracy: 0.5289\n",
      "Epoch 22/50\n",
      "50000/50000 [==============================] - 10s 191us/step - loss: 1.1022 - accuracy: 0.6071 - val_loss: 1.3960 - val_accuracy: 0.5139\n",
      "Epoch 23/50\n",
      "50000/50000 [==============================] - 10s 191us/step - loss: 1.0871 - accuracy: 0.6141 - val_loss: 1.3590 - val_accuracy: 0.5292\n",
      "Epoch 24/50\n",
      "50000/50000 [==============================] - 10s 193us/step - loss: 1.0666 - accuracy: 0.6184 - val_loss: 1.4598 - val_accuracy: 0.5067\n",
      "Epoch 25/50\n",
      "50000/50000 [==============================] - 9s 190us/step - loss: 1.0597 - accuracy: 0.6237 - val_loss: 1.3529 - val_accuracy: 0.5398\n",
      "Epoch 26/50\n",
      "50000/50000 [==============================] - 10s 192us/step - loss: 1.0358 - accuracy: 0.6299 - val_loss: 1.4107 - val_accuracy: 0.5197\n",
      "Epoch 27/50\n",
      "50000/50000 [==============================] - 10s 193us/step - loss: 1.0124 - accuracy: 0.6397 - val_loss: 1.3948 - val_accuracy: 0.5274\n",
      "Epoch 28/50\n",
      "50000/50000 [==============================] - 10s 190us/step - loss: 1.0061 - accuracy: 0.6411 - val_loss: 1.4427 - val_accuracy: 0.5141\n",
      "Epoch 29/50\n",
      "50000/50000 [==============================] - 10s 193us/step - loss: 0.9889 - accuracy: 0.6491 - val_loss: 1.4221 - val_accuracy: 0.5214\n",
      "Epoch 30/50\n",
      "50000/50000 [==============================] - 10s 193us/step - loss: 0.9653 - accuracy: 0.6557 - val_loss: 1.4034 - val_accuracy: 0.5312\n",
      "Epoch 31/50\n",
      "50000/50000 [==============================] - 10s 191us/step - loss: 0.9514 - accuracy: 0.6613 - val_loss: 1.4211 - val_accuracy: 0.5233\n",
      "Epoch 32/50\n",
      "50000/50000 [==============================] - 10s 192us/step - loss: 0.9306 - accuracy: 0.6673 - val_loss: 1.4325 - val_accuracy: 0.5234\n",
      "Epoch 33/50\n",
      "50000/50000 [==============================] - 10s 191us/step - loss: 0.9046 - accuracy: 0.6763 - val_loss: 1.4438 - val_accuracy: 0.5208- ETA: 2s - loss: 0.8989 - accura\n",
      "Epoch 34/50\n",
      "50000/50000 [==============================] - 10s 191us/step - loss: 0.8787 - accuracy: 0.6866 - val_loss: 1.4519 - val_accuracy: 0.5231\n",
      "Epoch 35/50\n",
      "50000/50000 [==============================] - 10s 192us/step - loss: 0.8684 - accuracy: 0.6881 - val_loss: 1.5048 - val_accuracy: 0.5139\n",
      "Epoch 36/50\n",
      "50000/50000 [==============================] - 10s 198us/step - loss: 0.8707 - accuracy: 0.6882 - val_loss: 1.4953 - val_accuracy: 0.5215\n",
      "Epoch 37/50\n",
      "50000/50000 [==============================] - 10s 193us/step - loss: 0.8396 - accuracy: 0.6982 - val_loss: 1.4799 - val_accuracy: 0.5297\n",
      "Epoch 38/50\n",
      "50000/50000 [==============================] - 10s 192us/step - loss: 0.8296 - accuracy: 0.7055 - val_loss: 1.5095 - val_accuracy: 0.5245\n",
      "Epoch 39/50\n",
      "50000/50000 [==============================] - 10s 191us/step - loss: 0.8050 - accuracy: 0.7121 - val_loss: 1.5252 - val_accuracy: 0.5156\n",
      "Epoch 40/50\n",
      "50000/50000 [==============================] - 10s 191us/step - loss: 0.7902 - accuracy: 0.7194 - val_loss: 1.5909 - val_accuracy: 0.5074\n",
      "Epoch 41/50\n",
      "50000/50000 [==============================] - 10s 192us/step - loss: 0.7793 - accuracy: 0.7210 - val_loss: 1.5957 - val_accuracy: 0.5200\n",
      "Epoch 42/50\n",
      "50000/50000 [==============================] - 10s 192us/step - loss: 0.7667 - accuracy: 0.7260 - val_loss: 1.5599 - val_accuracy: 0.5190\n",
      "Epoch 43/50\n",
      "50000/50000 [==============================] - 10s 192us/step - loss: 0.7471 - accuracy: 0.7362 - val_loss: 1.5885 - val_accuracy: 0.5198\n",
      "Epoch 44/50\n",
      "50000/50000 [==============================] - 10s 192us/step - loss: 0.7250 - accuracy: 0.7416 - val_loss: 1.6386 - val_accuracy: 0.5126\n",
      "Epoch 45/50\n",
      "50000/50000 [==============================] - 10s 192us/step - loss: 0.7193 - accuracy: 0.7432 - val_loss: 1.6648 - val_accuracy: 0.5139\n",
      "Epoch 46/50\n",
      "50000/50000 [==============================] - 10s 192us/step - loss: 0.7174 - accuracy: 0.7451 - val_loss: 1.6502 - val_accuracy: 0.5233\n",
      "Epoch 47/50\n",
      "50000/50000 [==============================] - 10s 192us/step - loss: 0.6834 - accuracy: 0.7577 - val_loss: 1.7215 - val_accuracy: 0.5106\n",
      "Epoch 48/50\n",
      "50000/50000 [==============================] - 10s 192us/step - loss: 0.6761 - accuracy: 0.7600 - val_loss: 1.7065 - val_accuracy: 0.5122.75\n",
      "Epoch 49/50\n",
      "50000/50000 [==============================] - 10s 192us/step - loss: 0.6575 - accuracy: 0.7658 - val_loss: 1.7694 - val_accuracy: 0.5139\n",
      "Epoch 50/50\n",
      "50000/50000 [==============================] - 10s 200us/step - loss: 0.6471 - accuracy: 0.7694 - val_loss: 1.7426 - val_accuracy: 0.5224\n"
     ]
    },
    {
     "data": {
      "text/plain": [
       "<keras.callbacks.callbacks.History at 0x16fbc28d5c0>"
      ]
     },
     "execution_count": 10,
     "metadata": {},
     "output_type": "execute_result"
    }
   ],
   "source": [
    "## 超參數設定\n",
    "\"\"\"\n",
    "Set your required experiment parameters\n",
    "\"\"\"\n",
    "EPOCHS = 50\n",
    "BATCH_SIZE = 256\n",
    "\n",
    "model = build_mlp()\n",
    "optimizer = keras.optimizers.Adam(lr=0.001, beta_1=0.9, beta_2=0.999)\n",
    "\n",
    "model.compile(loss=\"categorical_crossentropy\", metrics=[\"accuracy\"], optimizer=optimizer)\n",
    "\n",
    "model.fit(x_train, y_train, \n",
    "          epochs=EPOCHS, \n",
    "          batch_size=BATCH_SIZE, \n",
    "          validation_data=(x_test, y_test), \n",
    "          shuffle=True)\n",
    "    "
   ]
  },
  {
   "cell_type": "code",
   "execution_count": 12,
   "metadata": {
    "scrolled": true
   },
   "outputs": [],
   "source": [
    "results = {}\n",
    "\"\"\"\n",
    "建立你的訓練與實驗迴圈並蒐集資料\n",
    "\"\"\"\n",
    "train_loss = model.history.history[\"loss\"]\n",
    "valid_loss = model.history.history[\"val_loss\"]\n",
    "train_acc = model.history.history[\"accuracy\"]\n",
    "valid_acc = model.history.history[\"val_accuracy\"]"
   ]
  },
  {
   "cell_type": "code",
   "execution_count": 13,
   "metadata": {},
   "outputs": [
    {
     "data": {
      "image/png": "[encoded data removed]",
      "text/plain": [
       "<Figure size 432x288 with 1 Axes>"
      ]
     },
     "metadata": {
      "needs_background": "light"
     },
     "output_type": "display_data"
    },
    {
     "data": {
      "image/png": "[encoded data removed]",
      "text/plain": [
       "<Figure size 432x288 with 1 Axes>"
      ]
     },
     "metadata": {
      "needs_background": "light"
     },
     "output_type": "display_data"
    }
   ],
   "source": [
    "import matplotlib.pyplot as plt\n",
    "%matplotlib inline\n",
    "\n",
    "\"\"\"\n",
    "將實驗結果繪出\n",
    "\"\"\"\n",
    "plt.plot(range(len(train_loss)), train_loss, label=\"train loss\")\n",
    "plt.plot(range(len(valid_loss)), valid_loss, label=\"valid loss\")\n",
    "plt.legend()\n",
    "plt.title(\"Loss\")\n",
    "plt.show()\n",
    "\n",
    "plt.plot(range(len(train_acc)), train_acc, label=\"train accuracy\")\n",
    "plt.plot(range(len(valid_acc)), valid_acc, label=\"valid accuracy\")\n",
    "plt.legend()\n",
    "plt.title(\"Accuracy\")\n",
    "plt.show()"
   ]
  },
  {
   "cell_type": "code",
   "execution_count": null,
   "metadata": {},
   "outputs": [],
   "source": []
  }
 ],
 "metadata": {
  "kernelspec": {
   "display_name": "Python 3",
   "language": "python",
   "name": "python3"
  },
  "language_info": {
   "codemirror_mode": {
    "name": "ipython",
    "version": 3
   },
   "file_extension": ".py",
   "mimetype": "text/x-python",
   "name": "python",
   "nbconvert_exporter": "python",
   "pygments_lexer": "ipython3",
   "version": "3.7.1"
  }
 },
 "nbformat": 4,
 "nbformat_minor": 2
}
