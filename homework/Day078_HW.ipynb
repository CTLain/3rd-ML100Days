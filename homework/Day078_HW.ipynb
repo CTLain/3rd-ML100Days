{
 "cells": [
  {
   "cell_type": "markdown",
   "metadata": {},
   "source": [
    "## Work\n",
    "1. 請嘗試將 preproc_x 替換成以每筆資料的 min/max 進行標準化至 -1 ~ 1 間，再進行訓練\n",
    "2. 請嘗試將 mlp 疊更深 (e.g 5~10 層)，進行訓練後觀察 learning curve 的走勢\n",
    "3. (optional) 請改用 GPU 進行訓練 (如果你有 GPU 的話)，比較使用 CPU 與 GPU 的訓練速度"
   ]
  },
  {
   "cell_type": "code",
   "execution_count": 17,
   "metadata": {},
   "outputs": [
    {
     "data": {
      "text/plain": [
       "'\\nYour code here (optional)\\n確認硬體資源\\n'"
      ]
     },
     "execution_count": 17,
     "metadata": {},
     "output_type": "execute_result"
    }
   ],
   "source": [
    "## \n",
    "\"\"\"\n",
    "Your code here (optional)\n",
    "確認硬體資源\n",
    "\"\"\"\n"
   ]
  },
  {
   "cell_type": "code",
   "execution_count": 18,
   "metadata": {},
   "outputs": [],
   "source": [
    "import os\n",
    "import keras\n",
    "\n",
    "# 請嘗試設定 GPU：os.environ\n"
   ]
  },
  {
   "cell_type": "code",
   "execution_count": 19,
   "metadata": {},
   "outputs": [],
   "source": [
    "train, test = keras.datasets.cifar10.load_data()"
   ]
  },
  {
   "cell_type": "code",
   "execution_count": 20,
   "metadata": {},
   "outputs": [],
   "source": [
    "## 資料前處理\n",
    "\"\"\"\n",
    "Your code here\n",
    "\"\"\"\n",
    "def preproc_x(x, flatten=True):\n",
    "    x = (x - x.mean())/(x.max()-x.min())\n",
    "    if flatten:\n",
    "        x = x.reshape((len(x), -1))\n",
    "    return x\n",
    "\n",
    "def preproc_y(y, num_classes=10):\n",
    "    if y.shape[-1] == 1:\n",
    "        y = keras.utils.to_categorical(y, num_classes)\n",
    "    return y   "
   ]
  },
  {
   "cell_type": "code",
   "execution_count": 21,
   "metadata": {},
   "outputs": [],
   "source": [
    "x_train, y_train = train\n",
    "x_test, y_test = test\n",
    "\n",
    "# Preproc the inputs\n",
    "x_train = preproc_x(x_train)\n",
    "x_test = preproc_x(x_test)\n",
    "\n",
    "# Preprc the outputs\n",
    "y_train = preproc_y(y_train)\n",
    "y_test = preproc_y(y_test)\n",
    "\n"
   ]
  },
  {
   "cell_type": "code",
   "execution_count": 22,
   "metadata": {},
   "outputs": [
    {
     "name": "stdout",
     "output_type": "stream",
     "text": [
      "Model: \"model_2\"\n",
      "_________________________________________________________________\n",
      "Layer (type)                 Output Shape              Param #   \n",
      "=================================================================\n",
      "input_2 (InputLayer)         (None, 3072)              0         \n",
      "_________________________________________________________________\n",
      "hidden_layer1 (Dense)        (None, 2048)              6293504   \n",
      "_________________________________________________________________\n",
      "hidden_layer2 (Dense)        (None, 1024)              2098176   \n",
      "_________________________________________________________________\n",
      "hidden_layer3 (Dense)        (None, 512)               524800    \n",
      "_________________________________________________________________\n",
      "hidden_layer4 (Dense)        (None, 256)               131328    \n",
      "_________________________________________________________________\n",
      "hidden_layer5 (Dense)        (None, 128)               32896     \n",
      "_________________________________________________________________\n",
      "hidden_layer6 (Dense)        (None, 64)                8256      \n",
      "_________________________________________________________________\n",
      "hidden_layer7 (Dense)        (None, 32)                2080      \n",
      "_________________________________________________________________\n",
      "output (Dense)               (None, 10)                330       \n",
      "=================================================================\n",
      "Total params: 9,091,370\n",
      "Trainable params: 9,091,370\n",
      "Non-trainable params: 0\n",
      "_________________________________________________________________\n"
     ]
    }
   ],
   "source": [
    "\"\"\"Code Here\n",
    "建立你的神經網路\n",
    "\"\"\"\n",
    "def build_mlp(input_shape, output_units=10, num_neurons=[2048, 1024, 512, 256, 128, 64, 32]):\n",
    "    input_layer = keras.layers.Input(input_shape)\n",
    "    \n",
    "    for i, n_units in enumerate(num_neurons):\n",
    "        if i == 0:\n",
    "            x = keras.layers.Dense(units=n_units, activation=\"relu\", name=\"hidden_layer\"+str(i+1))(input_layer)\n",
    "        else:\n",
    "            x = keras.layers.Dense(units=n_units, activation=\"relu\", name=\"hidden_layer\"+str(i+1))(x)\n",
    "    \n",
    "    out = keras.layers.Dense(units=output_units, activation=\"softmax\", name=\"output\")(x)\n",
    "    \n",
    "    model = keras.models.Model(inputs=[input_layer], outputs=[out])\n",
    "    return model\n",
    "\n",
    "model = build_mlp(input_shape=x_train.shape[1:])\n",
    "model.summary()"
   ]
  },
  {
   "cell_type": "code",
   "execution_count": 23,
   "metadata": {},
   "outputs": [],
   "source": [
    "## 超參數設定\n",
    "LEARNING_RATE = 0.001\n",
    "EPOCHS = 100\n",
    "BATCH_SIZE = 256"
   ]
  },
  {
   "cell_type": "code",
   "execution_count": 24,
   "metadata": {},
   "outputs": [],
   "source": [
    "optimizer = keras.optimizers.Adam(lr=LEARNING_RATE)\n",
    "model.compile(loss=\"categorical_crossentropy\", metrics=[\"accuracy\"], optimizer=optimizer)"
   ]
  },
  {
   "cell_type": "code",
   "execution_count": 25,
   "metadata": {},
   "outputs": [
    {
     "name": "stdout",
     "output_type": "stream",
     "text": [
      "Train on 50000 samples, validate on 10000 samples\n",
      "Epoch 1/100\n",
      "50000/50000 [==============================] - 51s 1ms/step - loss: 1.7306 - accuracy: 0.3826 - val_loss: 1.5505 - val_accuracy: 0.4517\n",
      "Epoch 2/100\n",
      "50000/50000 [==============================] - 50s 991us/step - loss: 1.4885 - accuracy: 0.4741 - val_loss: 1.4261 - val_accuracy: 0.4973\n",
      "Epoch 3/100\n",
      "50000/50000 [==============================] - 52s 1ms/step - loss: 1.3619 - accuracy: 0.5203 - val_loss: 1.4022 - val_accuracy: 0.5135\n",
      "Epoch 4/100\n",
      "50000/50000 [==============================] - 50s 994us/step - loss: 1.2492 - accuracy: 0.5590 - val_loss: 1.3998 - val_accuracy: 0.5164\n",
      "Epoch 5/100\n",
      "50000/50000 [==============================] - 50s 1ms/step - loss: 1.1529 - accuracy: 0.5956 - val_loss: 1.3586 - val_accuracy: 0.5300\n",
      "Epoch 6/100\n",
      "50000/50000 [==============================] - 50s 998us/step - loss: 1.0547 - accuracy: 0.6263 - val_loss: 1.3525 - val_accuracy: 0.5413\n",
      "Epoch 7/100\n",
      "50000/50000 [==============================] - 50s 999us/step - loss: 0.9661 - accuracy: 0.6574 - val_loss: 1.3502 - val_accuracy: 0.5448\n",
      "Epoch 8/100\n",
      "50000/50000 [==============================] - 50s 1ms/step - loss: 0.8777 - accuracy: 0.6882 - val_loss: 1.3688 - val_accuracy: 0.5488\n",
      "Epoch 9/100\n",
      "50000/50000 [==============================] - 51s 1ms/step - loss: 0.7797 - accuracy: 0.7227 - val_loss: 1.4923 - val_accuracy: 0.5446\n",
      "Epoch 10/100\n",
      "50000/50000 [==============================] - 50s 1ms/step - loss: 0.6956 - accuracy: 0.7516 - val_loss: 1.5345 - val_accuracy: 0.5498\n",
      "Epoch 11/100\n",
      "50000/50000 [==============================] - 51s 1ms/step - loss: 0.6129 - accuracy: 0.7825 - val_loss: 1.6135 - val_accuracy: 0.5550\n",
      "Epoch 12/100\n",
      "50000/50000 [==============================] - 58s 1ms/step - loss: 0.5475 - accuracy: 0.8071 - val_loss: 1.7160 - val_accuracy: 0.5409\n",
      "Epoch 13/100\n",
      "50000/50000 [==============================] - 55s 1ms/step - loss: 0.4840 - accuracy: 0.8289 - val_loss: 1.8875 - val_accuracy: 0.5528\n",
      "Epoch 14/100\n",
      "50000/50000 [==============================] - 53s 1ms/step - loss: 0.4347 - accuracy: 0.8467 - val_loss: 1.9132 - val_accuracy: 0.5587\n",
      "Epoch 15/100\n",
      "50000/50000 [==============================] - 51s 1ms/step - loss: 0.3802 - accuracy: 0.8657 - val_loss: 2.0039 - val_accuracy: 0.5501\n",
      "Epoch 16/100\n",
      "50000/50000 [==============================] - 49s 989us/step - loss: 0.3284 - accuracy: 0.8856 - val_loss: 2.1633 - val_accuracy: 0.5399\n",
      "Epoch 17/100\n",
      "50000/50000 [==============================] - 50s 993us/step - loss: 0.3128 - accuracy: 0.8917 - val_loss: 2.0030 - val_accuracy: 0.5522\n",
      "Epoch 18/100\n",
      "50000/50000 [==============================] - 50s 992us/step - loss: 0.2724 - accuracy: 0.9052 - val_loss: 2.3666 - val_accuracy: 0.5600\n",
      "Epoch 19/100\n",
      "50000/50000 [==============================] - 50s 991us/step - loss: 0.2426 - accuracy: 0.9165 - val_loss: 2.3383 - val_accuracy: 0.5516\n",
      "Epoch 20/100\n",
      "50000/50000 [==============================] - 49s 988us/step - loss: 0.2159 - accuracy: 0.9250 - val_loss: 2.4638 - val_accuracy: 0.5534\n",
      "Epoch 21/100\n",
      "50000/50000 [==============================] - 51s 1ms/step - loss: 0.1994 - accuracy: 0.9307 - val_loss: 2.6800 - val_accuracy: 0.5501\n",
      "Epoch 22/100\n",
      "50000/50000 [==============================] - 50s 996us/step - loss: 0.1895 - accuracy: 0.9351 - val_loss: 2.5168 - val_accuracy: 0.5535\n",
      "Epoch 23/100\n",
      "50000/50000 [==============================] - 50s 993us/step - loss: 0.1780 - accuracy: 0.9409 - val_loss: 2.6957 - val_accuracy: 0.5557\n",
      "Epoch 24/100\n",
      "50000/50000 [==============================] - 50s 999us/step - loss: 0.1616 - accuracy: 0.9452 - val_loss: 2.7677 - val_accuracy: 0.5576\n",
      "Epoch 25/100\n",
      "50000/50000 [==============================] - 58s 1ms/step - loss: 0.1654 - accuracy: 0.9451 - val_loss: 2.6678 - val_accuracy: 0.5429\n",
      "Epoch 26/100\n",
      "50000/50000 [==============================] - 59s 1ms/step - loss: 0.1444 - accuracy: 0.9517 - val_loss: 2.9933 - val_accuracy: 0.5591\n",
      "Epoch 27/100\n",
      "50000/50000 [==============================] - 59s 1ms/step - loss: 0.1410 - accuracy: 0.9523 - val_loss: 2.9414 - val_accuracy: 0.5486\n",
      "Epoch 28/100\n",
      "50000/50000 [==============================] - 52s 1ms/step - loss: 0.1287 - accuracy: 0.9581 - val_loss: 2.9309 - val_accuracy: 0.5564\n",
      "Epoch 29/100\n",
      "50000/50000 [==============================] - 52s 1ms/step - loss: 0.1225 - accuracy: 0.9610 - val_loss: 2.8248 - val_accuracy: 0.5587\n",
      "Epoch 30/100\n",
      "50000/50000 [==============================] - 55s 1ms/step - loss: 0.1229 - accuracy: 0.9596 - val_loss: 2.9406 - val_accuracy: 0.5559\n",
      "Epoch 31/100\n",
      "50000/50000 [==============================] - 50s 1ms/step - loss: 0.1212 - accuracy: 0.9612 - val_loss: 2.8706 - val_accuracy: 0.5565\n",
      "Epoch 32/100\n",
      "50000/50000 [==============================] - 49s 989us/step - loss: 0.1074 - accuracy: 0.9641 - val_loss: 2.8729 - val_accuracy: 0.5511\n",
      "Epoch 33/100\n",
      "50000/50000 [==============================] - 51s 1ms/step - loss: 0.1097 - accuracy: 0.9647 - val_loss: 2.8901 - val_accuracy: 0.5508\n",
      "Epoch 34/100\n",
      "50000/50000 [==============================] - 49s 979us/step - loss: 0.0978 - accuracy: 0.9694 - val_loss: 2.9201 - val_accuracy: 0.5581\n",
      "Epoch 35/100\n",
      "50000/50000 [==============================] - 49s 981us/step - loss: 0.1016 - accuracy: 0.9673 - val_loss: 2.8170 - val_accuracy: 0.5618\n",
      "Epoch 36/100\n",
      "50000/50000 [==============================] - 49s 987us/step - loss: 0.0941 - accuracy: 0.9689 - val_loss: 3.1348 - val_accuracy: 0.5496\n",
      "Epoch 37/100\n",
      "50000/50000 [==============================] - 49s 988us/step - loss: 0.0878 - accuracy: 0.9723 - val_loss: 3.1055 - val_accuracy: 0.5540\n",
      "Epoch 38/100\n",
      "50000/50000 [==============================] - 50s 997us/step - loss: 0.0884 - accuracy: 0.9715 - val_loss: 3.0534 - val_accuracy: 0.5625\n",
      "Epoch 39/100\n",
      "50000/50000 [==============================] - 51s 1ms/step - loss: 0.0881 - accuracy: 0.9717 - val_loss: 3.0370 - val_accuracy: 0.5546\n",
      "Epoch 40/100\n",
      "50000/50000 [==============================] - 49s 986us/step - loss: 0.0936 - accuracy: 0.9702 - val_loss: 2.9942 - val_accuracy: 0.5585\n",
      "Epoch 41/100\n",
      "50000/50000 [==============================] - 49s 982us/step - loss: 0.0853 - accuracy: 0.9727 - val_loss: 3.1427 - val_accuracy: 0.5470\n",
      "Epoch 42/100\n",
      "50000/50000 [==============================] - 49s 979us/step - loss: 0.0857 - accuracy: 0.9723 - val_loss: 3.2579 - val_accuracy: 0.5521\n",
      "Epoch 43/100\n",
      "50000/50000 [==============================] - 49s 984us/step - loss: 0.0902 - accuracy: 0.9720 - val_loss: 3.1607 - val_accuracy: 0.5504\n",
      "Epoch 44/100\n",
      "50000/50000 [==============================] - 49s 979us/step - loss: 0.0834 - accuracy: 0.9748 - val_loss: 2.9937 - val_accuracy: 0.5517\n",
      "Epoch 45/100\n",
      "50000/50000 [==============================] - 51s 1ms/step - loss: 0.0710 - accuracy: 0.9776 - val_loss: 3.1365 - val_accuracy: 0.5526\n",
      "Epoch 46/100\n",
      "50000/50000 [==============================] - 49s 979us/step - loss: 0.0880 - accuracy: 0.9719 - val_loss: 3.1451 - val_accuracy: 0.5462\n",
      "Epoch 47/100\n",
      "50000/50000 [==============================] - 49s 977us/step - loss: 0.0848 - accuracy: 0.9729 - val_loss: 3.0341 - val_accuracy: 0.5508\n",
      "Epoch 48/100\n",
      "50000/50000 [==============================] - 49s 989us/step - loss: 0.0718 - accuracy: 0.9783 - val_loss: 3.3384 - val_accuracy: 0.5557\n",
      "Epoch 49/100\n",
      "50000/50000 [==============================] - 49s 980us/step - loss: 0.0614 - accuracy: 0.9801 - val_loss: 3.2828 - val_accuracy: 0.5529\n",
      "Epoch 50/100\n",
      "50000/50000 [==============================] - 50s 992us/step - loss: 0.0641 - accuracy: 0.9803 - val_loss: 3.1350 - val_accuracy: 0.5589\n",
      "Epoch 51/100\n",
      "50000/50000 [==============================] - 49s 981us/step - loss: 0.0724 - accuracy: 0.9777 - val_loss: 3.2226 - val_accuracy: 0.5453\n",
      "Epoch 52/100\n",
      "50000/50000 [==============================] - 51s 1ms/step - loss: 0.0678 - accuracy: 0.9783 - val_loss: 3.1046 - val_accuracy: 0.5510\n",
      "Epoch 53/100\n",
      "50000/50000 [==============================] - 49s 980us/step - loss: 0.0645 - accuracy: 0.9802 - val_loss: 3.1703 - val_accuracy: 0.5526\n",
      "Epoch 54/100\n",
      "50000/50000 [==============================] - 49s 978us/step - loss: 0.0653 - accuracy: 0.9804 - val_loss: 3.1011 - val_accuracy: 0.5530\n",
      "Epoch 55/100\n"
     ]
    },
    {
     "name": "stdout",
     "output_type": "stream",
     "text": [
      "50000/50000 [==============================] - 51s 1ms/step - loss: 0.0576 - accuracy: 0.9825 - val_loss: 3.4654 - val_accuracy: 0.5399\n",
      "Epoch 56/100\n",
      "50000/50000 [==============================] - 49s 986us/step - loss: 0.0758 - accuracy: 0.9769 - val_loss: 3.2761 - val_accuracy: 0.5515\n",
      "Epoch 57/100\n",
      "50000/50000 [==============================] - 49s 985us/step - loss: 0.0801 - accuracy: 0.9751 - val_loss: 2.9214 - val_accuracy: 0.5515\n",
      "Epoch 58/100\n",
      "50000/50000 [==============================] - 50s 1ms/step - loss: 0.0597 - accuracy: 0.9821 - val_loss: 3.1661 - val_accuracy: 0.5568\n",
      "Epoch 59/100\n",
      "50000/50000 [==============================] - 49s 974us/step - loss: 0.0584 - accuracy: 0.9821 - val_loss: 3.1165 - val_accuracy: 0.5539\n",
      "Epoch 60/100\n",
      "50000/50000 [==============================] - 49s 987us/step - loss: 0.0600 - accuracy: 0.9817 - val_loss: 3.2710 - val_accuracy: 0.5543\n",
      "Epoch 61/100\n",
      "50000/50000 [==============================] - 49s 976us/step - loss: 0.0580 - accuracy: 0.9827 - val_loss: 3.2365 - val_accuracy: 0.5475\n",
      "Epoch 62/100\n",
      "50000/50000 [==============================] - 49s 982us/step - loss: 0.0470 - accuracy: 0.9849 - val_loss: 3.3312 - val_accuracy: 0.5528\n",
      "Epoch 63/100\n",
      "50000/50000 [==============================] - 49s 976us/step - loss: 0.0559 - accuracy: 0.9825 - val_loss: 3.1195 - val_accuracy: 0.5462\n",
      "Epoch 64/100\n",
      "50000/50000 [==============================] - 50s 1ms/step - loss: 0.0601 - accuracy: 0.9811 - val_loss: 3.4022 - val_accuracy: 0.5512\n",
      "Epoch 65/100\n",
      "50000/50000 [==============================] - 49s 985us/step - loss: 0.0564 - accuracy: 0.9824 - val_loss: 3.4159 - val_accuracy: 0.5479\n",
      "Epoch 66/100\n",
      "50000/50000 [==============================] - 49s 982us/step - loss: 0.0623 - accuracy: 0.9809 - val_loss: 3.5546 - val_accuracy: 0.5548\n",
      "Epoch 67/100\n",
      "50000/50000 [==============================] - 52s 1ms/step - loss: 0.0538 - accuracy: 0.9836 - val_loss: 3.5775 - val_accuracy: 0.5583\n",
      "Epoch 68/100\n",
      "50000/50000 [==============================] - 49s 987us/step - loss: 0.0438 - accuracy: 0.9865 - val_loss: 3.5050 - val_accuracy: 0.5576\n",
      "Epoch 69/100\n",
      "50000/50000 [==============================] - 49s 984us/step - loss: 0.0616 - accuracy: 0.9814 - val_loss: 3.3357 - val_accuracy: 0.5541\n",
      "Epoch 70/100\n",
      "50000/50000 [==============================] - 50s 1ms/step - loss: 0.0505 - accuracy: 0.9850 - val_loss: 3.5511 - val_accuracy: 0.5572\n",
      "Epoch 71/100\n",
      "50000/50000 [==============================] - 49s 975us/step - loss: 0.0597 - accuracy: 0.9822 - val_loss: 3.1612 - val_accuracy: 0.5452\n",
      "Epoch 72/100\n",
      "50000/50000 [==============================] - 49s 983us/step - loss: 0.0566 - accuracy: 0.9831 - val_loss: 3.3764 - val_accuracy: 0.5582\n",
      "Epoch 73/100\n",
      "50000/50000 [==============================] - 49s 978us/step - loss: 0.0542 - accuracy: 0.9848 - val_loss: 3.3848 - val_accuracy: 0.5564\n",
      "Epoch 74/100\n",
      "50000/50000 [==============================] - 49s 988us/step - loss: 0.0398 - accuracy: 0.9873 - val_loss: 3.3046 - val_accuracy: 0.5629\n",
      "Epoch 75/100\n",
      "50000/50000 [==============================] - 49s 978us/step - loss: 0.0470 - accuracy: 0.9856 - val_loss: 3.3902 - val_accuracy: 0.5556\n",
      "Epoch 76/100\n",
      "50000/50000 [==============================] - 49s 990us/step - loss: 0.0363 - accuracy: 0.9890 - val_loss: 3.7620 - val_accuracy: 0.5606\n",
      "Epoch 77/100\n",
      "50000/50000 [==============================] - 50s 998us/step - loss: 0.0548 - accuracy: 0.9838 - val_loss: 3.2263 - val_accuracy: 0.5600\n",
      "Epoch 78/100\n",
      "50000/50000 [==============================] - 49s 977us/step - loss: 0.0481 - accuracy: 0.9856 - val_loss: 3.4192 - val_accuracy: 0.5567\n",
      "Epoch 79/100\n",
      "50000/50000 [==============================] - 49s 983us/step - loss: 0.0472 - accuracy: 0.9866 - val_loss: 3.2349 - val_accuracy: 0.5546\n",
      "Epoch 80/100\n",
      "50000/50000 [==============================] - 49s 977us/step - loss: 0.0409 - accuracy: 0.9876 - val_loss: 3.2481 - val_accuracy: 0.5512\n",
      "Epoch 81/100\n",
      "50000/50000 [==============================] - 49s 978us/step - loss: 0.0455 - accuracy: 0.9858 - val_loss: 3.4307 - val_accuracy: 0.5532\n",
      "Epoch 82/100\n",
      "50000/50000 [==============================] - 49s 982us/step - loss: 0.0493 - accuracy: 0.9858 - val_loss: 3.4528 - val_accuracy: 0.5569\n",
      "Epoch 83/100\n",
      "50000/50000 [==============================] - 50s 1ms/step - loss: 0.0429 - accuracy: 0.9871 - val_loss: 3.6156 - val_accuracy: 0.5532\n",
      "Epoch 84/100\n",
      "50000/50000 [==============================] - 49s 981us/step - loss: 0.0436 - accuracy: 0.9876 - val_loss: 3.5332 - val_accuracy: 0.5584\n",
      "Epoch 85/100\n",
      "50000/50000 [==============================] - 49s 979us/step - loss: 0.0445 - accuracy: 0.9864 - val_loss: 3.5693 - val_accuracy: 0.5539\n",
      "Epoch 86/100\n",
      "50000/50000 [==============================] - 49s 981us/step - loss: 0.0408 - accuracy: 0.9876 - val_loss: 3.5936 - val_accuracy: 0.5540\n",
      "Epoch 87/100\n",
      "50000/50000 [==============================] - 49s 985us/step - loss: 0.0407 - accuracy: 0.9877 - val_loss: 3.5569 - val_accuracy: 0.5520\n",
      "Epoch 88/100\n",
      "50000/50000 [==============================] - 49s 976us/step - loss: 0.0415 - accuracy: 0.9872 - val_loss: 3.4654 - val_accuracy: 0.5576\n",
      "Epoch 89/100\n",
      "50000/50000 [==============================] - 51s 1ms/step - loss: 0.0446 - accuracy: 0.9868 - val_loss: 3.3227 - val_accuracy: 0.5559\n",
      "Epoch 90/100\n",
      "50000/50000 [==============================] - 49s 977us/step - loss: 0.0411 - accuracy: 0.9879 - val_loss: 3.5173 - val_accuracy: 0.5516\n",
      "Epoch 91/100\n",
      "50000/50000 [==============================] - 49s 983us/step - loss: 0.0437 - accuracy: 0.9873 - val_loss: 3.2829 - val_accuracy: 0.5595\n",
      "Epoch 92/100\n",
      "50000/50000 [==============================] - 49s 978us/step - loss: 0.0447 - accuracy: 0.9872 - val_loss: 3.3774 - val_accuracy: 0.5560\n",
      "Epoch 93/100\n",
      "50000/50000 [==============================] - 49s 982us/step - loss: 0.0316 - accuracy: 0.9905 - val_loss: 3.8150 - val_accuracy: 0.5527\n",
      "Epoch 94/100\n",
      "50000/50000 [==============================] - 49s 980us/step - loss: 0.0378 - accuracy: 0.9886 - val_loss: 3.5111 - val_accuracy: 0.5563\n",
      "Epoch 95/100\n",
      "50000/50000 [==============================] - 50s 1ms/step - loss: 0.0361 - accuracy: 0.9898 - val_loss: 3.4556 - val_accuracy: 0.5573\n",
      "Epoch 96/100\n",
      "50000/50000 [==============================] - 49s 981us/step - loss: 0.0462 - accuracy: 0.9865 - val_loss: 3.6273 - val_accuracy: 0.5567\n",
      "Epoch 97/100\n",
      "50000/50000 [==============================] - 49s 977us/step - loss: 0.0396 - accuracy: 0.9886 - val_loss: 3.5663 - val_accuracy: 0.5518\n",
      "Epoch 98/100\n",
      "50000/50000 [==============================] - 49s 977us/step - loss: 0.0412 - accuracy: 0.9881 - val_loss: 3.3337 - val_accuracy: 0.5540\n",
      "Epoch 99/100\n",
      "50000/50000 [==============================] - 49s 984us/step - loss: 0.0451 - accuracy: 0.9867 - val_loss: 3.3375 - val_accuracy: 0.5567\n",
      "Epoch 100/100\n",
      "50000/50000 [==============================] - 49s 977us/step - loss: 0.0391 - accuracy: 0.9889 - val_loss: 3.7218 - val_accuracy: 0.5562\n"
     ]
    },
    {
     "data": {
      "text/plain": [
       "<keras.callbacks.callbacks.History at 0x21de289cbe0>"
      ]
     },
     "execution_count": 25,
     "metadata": {},
     "output_type": "execute_result"
    }
   ],
   "source": [
    "model.fit(x_train, y_train, \n",
    "          epochs=EPOCHS, \n",
    "          batch_size=BATCH_SIZE, \n",
    "          validation_data=(x_test, y_test), \n",
    "          shuffle=True)"
   ]
  },
  {
   "cell_type": "code",
   "execution_count": 26,
   "metadata": {},
   "outputs": [
    {
     "data": {
      "image/png": "[encoded data removed]",
      "text/plain": [
       "<Figure size 432x288 with 1 Axes>"
      ]
     },
     "metadata": {
      "needs_background": "light"
     },
     "output_type": "display_data"
    },
    {
     "data": {
      "image/png": "[encoded data removed]",
      "text/plain": [
       "<Figure size 432x288 with 1 Axes>"
      ]
     },
     "metadata": {
      "needs_background": "light"
     },
     "output_type": "display_data"
    }
   ],
   "source": [
    "import matplotlib.pyplot as plt\n",
    "\n",
    "\n",
    "train_loss = model.history.history[\"loss\"]\n",
    "valid_loss = model.history.history[\"val_loss\"]\n",
    "\n",
    "train_acc = model.history.history[\"accuracy\"]\n",
    "valid_acc = model.history.history[\"val_accuracy\"]\n",
    "\n",
    "plt.plot(range(len(train_loss)), train_loss, label=\"train loss\")\n",
    "plt.plot(range(len(valid_loss)), valid_loss, label=\"valid loss\")\n",
    "plt.legend()\n",
    "plt.title(\"Loss\")\n",
    "plt.show()\n",
    "\n",
    "plt.plot(range(len(train_acc)), train_acc, label=\"train accuracy\")\n",
    "plt.plot(range(len(valid_acc)), valid_acc, label=\"valid accuracy\")\n",
    "plt.legend()\n",
    "plt.title(\"Accuracy\")\n",
    "plt.show()"
   ]
  },
  {
   "cell_type": "code",
   "execution_count": null,
   "metadata": {},
   "outputs": [],
   "source": []
  }
 ],
 "metadata": {
  "kernelspec": {
   "display_name": "Python 3",
   "language": "python",
   "name": "python3"
  },
  "language_info": {
   "codemirror_mode": {
    "name": "ipython",
    "version": 3
   },
   "file_extension": ".py",
   "mimetype": "text/x-python",
   "name": "python",
   "nbconvert_exporter": "python",
   "pygments_lexer": "ipython3",
   "version": "3.7.1"
  }
 },
 "nbformat": 4,
 "nbformat_minor": 2
}
