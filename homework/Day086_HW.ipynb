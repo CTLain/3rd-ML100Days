{
 "cells": [
  {
   "cell_type": "markdown",
   "metadata": {},
   "source": [
    "## Work\n",
    "1. 試比較 save_best_only 與否的差異\n",
    "2. 請僅存入將 save_weights_only 設定為 True, 並嘗試 reset ipynb 並將模型與權重重新建回並預測 x_test"
   ]
  },
  {
   "cell_type": "code",
   "execution_count": 1,
   "metadata": {},
   "outputs": [
    {
     "name": "stderr",
     "output_type": "stream",
     "text": [
      "Using TensorFlow backend.\n"
     ]
    }
   ],
   "source": [
    "import os\n",
    "import keras\n",
    "\n",
    "# Disable GPU\n",
    "os.environ[\"CUDA_VISIBLE_DEVICES\"] = \"\""
   ]
  },
  {
   "cell_type": "code",
   "execution_count": 2,
   "metadata": {},
   "outputs": [],
   "source": [
    "train, test = keras.datasets.cifar10.load_data()"
   ]
  },
  {
   "cell_type": "code",
   "execution_count": 3,
   "metadata": {},
   "outputs": [],
   "source": [
    "## 資料前處理\n",
    "def preproc_x(x, flatten=True):\n",
    "    x = x / 255.\n",
    "    if flatten:\n",
    "        x = x.reshape((len(x), -1))\n",
    "    return x\n",
    "\n",
    "def preproc_y(y, num_classes=10):\n",
    "    if y.shape[-1] == 1:\n",
    "        y = keras.utils.to_categorical(y, num_classes)\n",
    "    return y    "
   ]
  },
  {
   "cell_type": "code",
   "execution_count": 4,
   "metadata": {},
   "outputs": [],
   "source": [
    "x_train, y_train = train\n",
    "x_test, y_test = test\n",
    "\n",
    "# Preproc the inputs\n",
    "x_train = preproc_x(x_train)\n",
    "x_test = preproc_x(x_test)\n",
    "\n",
    "# Preprc the outputs\n",
    "y_train = preproc_y(y_train)\n",
    "y_test = preproc_y(y_test)"
   ]
  },
  {
   "cell_type": "code",
   "execution_count": 5,
   "metadata": {},
   "outputs": [],
   "source": [
    "from keras.layers import BatchNormalization\n",
    "\n",
    "\"\"\"\n",
    "建立神經網路，並加入 BN layer\n",
    "\"\"\"\n",
    "def build_mlp(input_shape, output_units=10, num_neurons=[512, 256, 128]):\n",
    "    input_layer = keras.layers.Input(input_shape)\n",
    "    \n",
    "    for i, n_units in enumerate(num_neurons):\n",
    "        if i == 0:\n",
    "            x = keras.layers.Dense(units=n_units, \n",
    "                                   activation=\"relu\", \n",
    "                                   name=\"hidden_layer\"+str(i+1))(input_layer)\n",
    "            x = BatchNormalization()(x)\n",
    "        else:\n",
    "            x = keras.layers.Dense(units=n_units, \n",
    "                                   activation=\"relu\", \n",
    "                                   name=\"hidden_layer\"+str(i+1))(x)\n",
    "            x = BatchNormalization()(x)\n",
    "    \n",
    "    out = keras.layers.Dense(units=output_units, activation=\"softmax\", name=\"output\")(x)\n",
    "    \n",
    "    model = keras.models.Model(inputs=[input_layer], outputs=[out])\n",
    "    return model"
   ]
  },
  {
   "cell_type": "code",
   "execution_count": 6,
   "metadata": {},
   "outputs": [],
   "source": [
    "## 超參數設定\n",
    "LEARNING_RATE = 1e-3\n",
    "EPOCHS = 50\n",
    "BATCH_SIZE = 1024\n",
    "MOMENTUM = 0.95"
   ]
  },
  {
   "cell_type": "code",
   "execution_count": 16,
   "metadata": {},
   "outputs": [
    {
     "name": "stdout",
     "output_type": "stream",
     "text": [
      "Model: \"model_2\"\n",
      "_________________________________________________________________\n",
      "Layer (type)                 Output Shape              Param #   \n",
      "=================================================================\n",
      "input_2 (InputLayer)         (None, 3072)              0         \n",
      "_________________________________________________________________\n",
      "hidden_layer1 (Dense)        (None, 512)               1573376   \n",
      "_________________________________________________________________\n",
      "batch_normalization_4 (Batch (None, 512)               2048      \n",
      "_________________________________________________________________\n",
      "hidden_layer2 (Dense)        (None, 256)               131328    \n",
      "_________________________________________________________________\n",
      "batch_normalization_5 (Batch (None, 256)               1024      \n",
      "_________________________________________________________________\n",
      "hidden_layer3 (Dense)        (None, 128)               32896     \n",
      "_________________________________________________________________\n",
      "batch_normalization_6 (Batch (None, 128)               512       \n",
      "_________________________________________________________________\n",
      "output (Dense)               (None, 10)                1290      \n",
      "=================================================================\n",
      "Total params: 1,742,474\n",
      "Trainable params: 1,740,682\n",
      "Non-trainable params: 1,792\n",
      "_________________________________________________________________\n",
      "Train on 50000 samples, validate on 10000 samples\n",
      "Epoch 1/50\n",
      "50000/50000 [==============================] - 10s 204us/step - loss: 2.2067 - accuracy: 0.2681 - val_loss: 2.1234 - val_accuracy: 0.2262\n",
      "Epoch 2/50\n",
      "50000/50000 [==============================] - 7s 145us/step - loss: 1.7381 - accuracy: 0.3905 - val_loss: 1.9303 - val_accuracy: 0.3252\n",
      "Epoch 3/50\n",
      "50000/50000 [==============================] - 7s 130us/step - loss: 1.6182 - accuracy: 0.4316 - val_loss: 1.8044 - val_accuracy: 0.3687\n",
      "Epoch 4/50\n",
      "50000/50000 [==============================] - 6s 129us/step - loss: 1.5459 - accuracy: 0.4585 - val_loss: 1.7126 - val_accuracy: 0.4052\n",
      "Epoch 5/50\n",
      "50000/50000 [==============================] - 6s 128us/step - loss: 1.4916 - accuracy: 0.4765 - val_loss: 1.6375 - val_accuracy: 0.4265\n",
      "Epoch 6/50\n",
      "50000/50000 [==============================] - 6s 129us/step - loss: 1.4464 - accuracy: 0.4932 - val_loss: 1.5804 - val_accuracy: 0.4478\n",
      "Epoch 7/50\n",
      "50000/50000 [==============================] - 6s 130us/step - loss: 1.4076 - accuracy: 0.5063 - val_loss: 1.5446 - val_accuracy: 0.4562\n",
      "Epoch 8/50\n",
      "50000/50000 [==============================] - 6s 128us/step - loss: 1.3724 - accuracy: 0.5188 - val_loss: 1.5208 - val_accuracy: 0.4638\n",
      "Epoch 9/50\n",
      "50000/50000 [==============================] - 6s 128us/step - loss: 1.3411 - accuracy: 0.5300 - val_loss: 1.4928 - val_accuracy: 0.4725\n",
      "Epoch 10/50\n",
      "50000/50000 [==============================] - 6s 129us/step - loss: 1.3105 - accuracy: 0.5430 - val_loss: 1.4787 - val_accuracy: 0.4766\n",
      "Epoch 11/50\n",
      "50000/50000 [==============================] - 7s 130us/step - loss: 1.2819 - accuracy: 0.5523 - val_loss: 1.4760 - val_accuracy: 0.4810\n",
      "Epoch 12/50\n",
      "50000/50000 [==============================] - 7s 136us/step - loss: 1.2550 - accuracy: 0.5606 - val_loss: 1.4633 - val_accuracy: 0.4893\n",
      "Epoch 13/50\n",
      "50000/50000 [==============================] - 7s 133us/step - loss: 1.2283 - accuracy: 0.5715 - val_loss: 1.4544 - val_accuracy: 0.4901\n",
      "Epoch 14/50\n",
      "50000/50000 [==============================] - 7s 131us/step - loss: 1.2045 - accuracy: 0.5827 - val_loss: 1.4527 - val_accuracy: 0.4892\n",
      "Epoch 15/50\n",
      "50000/50000 [==============================] - 7s 131us/step - loss: 1.1812 - accuracy: 0.5900 - val_loss: 1.4553 - val_accuracy: 0.4906\n",
      "Epoch 16/50\n",
      "50000/50000 [==============================] - 6s 129us/step - loss: 1.1565 - accuracy: 0.5999 - val_loss: 1.4403 - val_accuracy: 0.4928\n",
      "Epoch 17/50\n",
      "50000/50000 [==============================] - 6s 129us/step - loss: 1.1340 - accuracy: 0.6094 - val_loss: 1.4405 - val_accuracy: 0.4919\n",
      "Epoch 18/50\n",
      "50000/50000 [==============================] - 7s 132us/step - loss: 1.1112 - accuracy: 0.6166 - val_loss: 1.4416 - val_accuracy: 0.4956\n",
      "Epoch 19/50\n",
      "50000/50000 [==============================] - 6s 128us/step - loss: 1.0896 - accuracy: 0.6254 - val_loss: 1.4404 - val_accuracy: 0.4988\n",
      "Epoch 20/50\n",
      "50000/50000 [==============================] - 7s 130us/step - loss: 1.0686 - accuracy: 0.6355 - val_loss: 1.4455 - val_accuracy: 0.4969\n",
      "Epoch 21/50\n",
      "50000/50000 [==============================] - 6s 128us/step - loss: 1.0451 - accuracy: 0.6413 - val_loss: 1.4423 - val_accuracy: 0.4950\n",
      "Epoch 22/50\n",
      "50000/50000 [==============================] - 7s 134us/step - loss: 1.0236 - accuracy: 0.6509 - val_loss: 1.4348 - val_accuracy: 0.5042\n",
      "Epoch 23/50\n",
      "50000/50000 [==============================] - 7s 145us/step - loss: 1.0026 - accuracy: 0.6588 - val_loss: 1.4510 - val_accuracy: 0.5005\n",
      "Epoch 24/50\n",
      "50000/50000 [==============================] - 6s 129us/step - loss: 0.9816 - accuracy: 0.6673 - val_loss: 1.4529 - val_accuracy: 0.4955\n",
      "Epoch 25/50\n",
      "50000/50000 [==============================] - 6s 128us/step - loss: 0.9605 - accuracy: 0.6765 - val_loss: 1.4454 - val_accuracy: 0.5023\n",
      "Epoch 26/50\n",
      "50000/50000 [==============================] - 6s 128us/step - loss: 0.9411 - accuracy: 0.6838 - val_loss: 1.4515 - val_accuracy: 0.5037\n",
      "Epoch 27/50\n",
      "50000/50000 [==============================] - 6s 129us/step - loss: 0.9187 - accuracy: 0.6911 - val_loss: 1.4755 - val_accuracy: 0.4949\n",
      "Epoch 28/50\n",
      "50000/50000 [==============================] - 6s 128us/step - loss: 0.8999 - accuracy: 0.6995 - val_loss: 1.4674 - val_accuracy: 0.4942\n",
      "Epoch 29/50\n",
      "50000/50000 [==============================] - 6s 128us/step - loss: 0.8804 - accuracy: 0.7068 - val_loss: 1.4696 - val_accuracy: 0.4971\n",
      "Epoch 30/50\n",
      "50000/50000 [==============================] - 6s 129us/step - loss: 0.8616 - accuracy: 0.7155 - val_loss: 1.4636 - val_accuracy: 0.5015\n",
      "Epoch 31/50\n",
      "50000/50000 [==============================] - 6s 128us/step - loss: 0.8392 - accuracy: 0.7250 - val_loss: 1.4629 - val_accuracy: 0.5023\n",
      "Epoch 32/50\n",
      "50000/50000 [==============================] - 6s 128us/step - loss: 0.8195 - accuracy: 0.7313 - val_loss: 1.4879 - val_accuracy: 0.5032\n",
      "Epoch 33/50\n",
      "50000/50000 [==============================] - 6s 128us/step - loss: 0.8024 - accuracy: 0.7368 - val_loss: 1.4851 - val_accuracy: 0.4923\n",
      "Epoch 34/50\n",
      "50000/50000 [==============================] - 6s 128us/step - loss: 0.7823 - accuracy: 0.7457 - val_loss: 1.5025 - val_accuracy: 0.4948\n",
      "Epoch 35/50\n",
      "50000/50000 [==============================] - 6s 128us/step - loss: 0.7635 - accuracy: 0.7547 - val_loss: 1.5082 - val_accuracy: 0.4993\n",
      "Epoch 36/50\n",
      "50000/50000 [==============================] - 6s 129us/step - loss: 0.7456 - accuracy: 0.7600 - val_loss: 1.5171 - val_accuracy: 0.4993\n",
      "Epoch 37/50\n",
      "50000/50000 [==============================] - 6s 128us/step - loss: 0.7252 - accuracy: 0.7671 - val_loss: 1.5231 - val_accuracy: 0.5032\n",
      "Epoch 38/50\n",
      "50000/50000 [==============================] - 6s 128us/step - loss: 0.7065 - accuracy: 0.7757 - val_loss: 1.5392 - val_accuracy: 0.4941\n",
      "Epoch 39/50\n",
      "50000/50000 [==============================] - 6s 129us/step - loss: 0.6883 - accuracy: 0.7825 - val_loss: 1.5297 - val_accuracy: 0.4982\n",
      "Epoch 40/50\n",
      "50000/50000 [==============================] - 6s 128us/step - loss: 0.6718 - accuracy: 0.7907 - val_loss: 1.5395 - val_accuracy: 0.4994\n",
      "Epoch 41/50\n",
      "50000/50000 [==============================] - 6s 129us/step - loss: 0.6516 - accuracy: 0.7977 - val_loss: 1.5650 - val_accuracy: 0.4952\n",
      "Epoch 42/50\n",
      "50000/50000 [==============================] - 6s 129us/step - loss: 0.6332 - accuracy: 0.8050 - val_loss: 1.5634 - val_accuracy: 0.4998\n",
      "Epoch 43/50\n",
      "50000/50000 [==============================] - 6s 128us/step - loss: 0.6133 - accuracy: 0.8131 - val_loss: 1.5735 - val_accuracy: 0.4990\n",
      "Epoch 44/50\n",
      "50000/50000 [==============================] - 6s 128us/step - loss: 0.5967 - accuracy: 0.8201 - val_loss: 1.5764 - val_accuracy: 0.4968\n",
      "Epoch 45/50\n",
      "50000/50000 [==============================] - 6s 129us/step - loss: 0.5802 - accuracy: 0.8271 - val_loss: 1.5878 - val_accuracy: 0.4916\n",
      "Epoch 46/50\n"
     ]
    },
    {
     "name": "stdout",
     "output_type": "stream",
     "text": [
      "50000/50000 [==============================] - 6s 128us/step - loss: 0.5611 - accuracy: 0.8338 - val_loss: 1.6143 - val_accuracy: 0.4905\n",
      "Epoch 47/50\n",
      "50000/50000 [==============================] - 6s 129us/step - loss: 0.5455 - accuracy: 0.8400 - val_loss: 1.6286 - val_accuracy: 0.4886\n",
      "Epoch 48/50\n",
      "50000/50000 [==============================] - 6s 129us/step - loss: 0.5284 - accuracy: 0.8477 - val_loss: 1.6287 - val_accuracy: 0.4926\n",
      "Epoch 49/50\n",
      "50000/50000 [==============================] - 6s 128us/step - loss: 0.5139 - accuracy: 0.8529 - val_loss: 1.6435 - val_accuracy: 0.4919\n",
      "Epoch 50/50\n",
      "50000/50000 [==============================] - 6s 128us/step - loss: 0.4962 - accuracy: 0.8608 - val_loss: 1.6819 - val_accuracy: 0.4877\n"
     ]
    }
   ],
   "source": [
    "# 載入 Callbacks\n",
    "\"\"\"Code Here\n",
    "設定 callbacks: model checkpoint\n",
    "\"\"\"\n",
    "from keras.callbacks import ModelCheckpoint\n",
    "\n",
    "model_ckpt = ModelCheckpoint(filepath=\"./tmp2.h5\", \n",
    "                             monitor=\"val_loss\", \n",
    "                             save_best_only=False)\n",
    "results = {}\n",
    "\"\"\"Code Here\n",
    "撰寫你的訓練流程並將結果用 dictionary 紀錄\n",
    "\"\"\"\n",
    "model = build_mlp(input_shape=x_train.shape[1:])\n",
    "model.summary()\n",
    "optimizer = keras.optimizers.SGD(lr=LEARNING_RATE, nesterov=True, momentum=MOMENTUM)\n",
    "model.compile(loss=\"categorical_crossentropy\", metrics=[\"accuracy\"], optimizer=optimizer)\n",
    "\n",
    "model.fit(x_train, y_train, \n",
    "          epochs=EPOCHS, \n",
    "          batch_size=BATCH_SIZE, \n",
    "          validation_data=(x_test, y_test), \n",
    "          shuffle=True,\n",
    "          callbacks=[model_ckpt]\n",
    "         )\n",
    "\n",
    "# Collect results\n",
    "train_loss = model.history.history[\"loss\"]\n",
    "valid_loss = model.history.history[\"val_loss\"]\n",
    "train_acc = model.history.history[\"accuracy\"]\n",
    "valid_acc = model.history.history[\"val_accuracy\"]\n",
    "\n"
   ]
  },
  {
   "cell_type": "code",
   "execution_count": 23,
   "metadata": {
    "scrolled": true
   },
   "outputs": [
    {
     "name": "stdout",
     "output_type": "stream",
     "text": [
      "10000/10000 [==============================] - 1s 132us/step\n"
     ]
    },
    {
     "data": {
      "image/png": "[encoded data removed]",
      "text/plain": [
       "<Figure size 432x288 with 1 Axes>"
      ]
     },
     "metadata": {
      "needs_background": "light"
     },
     "output_type": "display_data"
    },
    {
     "data": {
      "image/png": "[encoded data removed]",
      "text/plain": [
       "<Figure size 432x288 with 1 Axes>"
      ]
     },
     "metadata": {
      "needs_background": "light"
     },
     "output_type": "display_data"
    }
   ],
   "source": [
    "    \n",
    "# Load back\n",
    "model = keras.models.load_model(\"./tmp2.h5\")\n",
    "loss_loadback, acc_loadback = model.evaluate(x_test, y_test)\n",
    "\n",
    "import matplotlib.pyplot as plt\n",
    "%matplotlib inline\n",
    "\n",
    "plt.plot(range(len(train_loss)), train_loss, label=\"train loss\")\n",
    "plt.plot(range(len(valid_loss)), valid_loss, label=\"valid loss\")\n",
    "plt.hlines(y=loss_loadback, xmin=0, xmax=len(train_loss), colors='r', linestyles='--')\n",
    "plt.legend()\n",
    "plt.title(\"Loss\")\n",
    "plt.show()\n",
    "\n",
    "plt.plot(range(len(train_acc)), train_acc, label=\"train accuracy\")\n",
    "plt.plot(range(len(valid_acc)), valid_acc, label=\"valid accuracy\")\n",
    "plt.hlines(y=acc_loadback, xmin=0, xmax=len(train_loss), colors='r', linestyles='--')\n",
    "plt.legend()\n",
    "plt.title(\"Accuracy\")\n",
    "plt.show()"
   ]
  },
  {
   "cell_type": "code",
   "execution_count": null,
   "metadata": {},
   "outputs": [],
   "source": [
    "1. 不是save_best_only就只是記錄到最後一筆的資料\n",
    "2. "
   ]
  }
 ],
 "metadata": {
  "kernelspec": {
   "display_name": "Python 3",
   "language": "python",
   "name": "python3"
  },
  "language_info": {
   "codemirror_mode": {
    "name": "ipython",
    "version": 3
   },
   "file_extension": ".py",
   "mimetype": "text/x-python",
   "name": "python",
   "nbconvert_exporter": "python",
   "pygments_lexer": "ipython3",
   "version": "3.7.1"
  }
 },
 "nbformat": 4,
 "nbformat_minor": 2
}
