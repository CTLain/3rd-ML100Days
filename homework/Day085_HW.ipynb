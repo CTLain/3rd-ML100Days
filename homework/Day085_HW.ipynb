{
 "cells": [
  {
   "cell_type": "markdown",
   "metadata": {},
   "source": [
    "## Work\n",
    "1. 試改變 monitor \"Validation Accuracy\" 並比較結果\n",
    "2. 調整 earlystop 的等待次數至 10, 25 並比較結果"
   ]
  },
  {
   "cell_type": "code",
   "execution_count": 1,
   "metadata": {},
   "outputs": [
    {
     "name": "stderr",
     "output_type": "stream",
     "text": [
      "Using TensorFlow backend.\n"
     ]
    }
   ],
   "source": [
    "import os\n",
    "import keras\n",
    "import matplotlib.pyplot as plt\n",
    "%matplotlib inline\n",
    "\n",
    "\n",
    "# Disable GPU\n",
    "os.environ[\"CUDA_VISIBLE_DEVICES\"] = \"\""
   ]
  },
  {
   "cell_type": "code",
   "execution_count": 2,
   "metadata": {},
   "outputs": [],
   "source": [
    "train, test = keras.datasets.cifar10.load_data()"
   ]
  },
  {
   "cell_type": "code",
   "execution_count": 3,
   "metadata": {},
   "outputs": [],
   "source": [
    "## 資料前處理\n",
    "def preproc_x(x, flatten=True):\n",
    "    x = x / 255.\n",
    "    if flatten:\n",
    "        x = x.reshape((len(x), -1))\n",
    "    return x\n",
    "\n",
    "def preproc_y(y, num_classes=10):\n",
    "    if y.shape[-1] == 1:\n",
    "        y = keras.utils.to_categorical(y, num_classes)\n",
    "    return y    "
   ]
  },
  {
   "cell_type": "code",
   "execution_count": 4,
   "metadata": {},
   "outputs": [],
   "source": [
    "x_train, y_train = train\n",
    "x_test, y_test = test\n",
    "\n",
    "# Preproc the inputs\n",
    "x_train = preproc_x(x_train)\n",
    "x_test = preproc_x(x_test)\n",
    "\n",
    "# Preprc the outputs\n",
    "y_train = preproc_y(y_train)\n",
    "y_test = preproc_y(y_test)"
   ]
  },
  {
   "cell_type": "code",
   "execution_count": 5,
   "metadata": {},
   "outputs": [],
   "source": [
    "from keras.layers import BatchNormalization\n",
    "\n",
    "\"\"\"\n",
    "建立神經網路，並加入 BN layer\n",
    "\"\"\"\n",
    "def build_mlp(input_shape, output_units=10, num_neurons=[512, 256, 128]):\n",
    "    input_layer = keras.layers.Input(input_shape)\n",
    "    \n",
    "    for i, n_units in enumerate(num_neurons):\n",
    "        if i == 0:\n",
    "            x = keras.layers.Dense(units=n_units, \n",
    "                                   activation=\"relu\", \n",
    "                                   name=\"hidden_layer\"+str(i+1))(input_layer)\n",
    "            x = BatchNormalization()(x)\n",
    "        else:\n",
    "            x = keras.layers.Dense(units=n_units, \n",
    "                                   activation=\"relu\", \n",
    "                                   name=\"hidden_layer\"+str(i+1))(x)\n",
    "            x = BatchNormalization()(x)\n",
    "    \n",
    "    out = keras.layers.Dense(units=output_units, activation=\"softmax\", name=\"output\")(x)\n",
    "    \n",
    "    model = keras.models.Model(inputs=[input_layer], outputs=[out])\n",
    "    return model"
   ]
  },
  {
   "cell_type": "code",
   "execution_count": 6,
   "metadata": {},
   "outputs": [],
   "source": [
    "\"\"\"Code Here\n",
    "設定超參數\n",
    "\"\"\"\n",
    "LEARNING_RATE = 1e-3\n",
    "EPOCHS = 50\n",
    "BATCH_SIZE = 1024\n",
    "MOMENTUM = 0.95"
   ]
  },
  {
   "cell_type": "code",
   "execution_count": 9,
   "metadata": {},
   "outputs": [
    {
     "name": "stdout",
     "output_type": "stream",
     "text": [
      "Model: \"model_2\"\n",
      "_________________________________________________________________\n",
      "Layer (type)                 Output Shape              Param #   \n",
      "=================================================================\n",
      "input_2 (InputLayer)         (None, 3072)              0         \n",
      "_________________________________________________________________\n",
      "hidden_layer1 (Dense)        (None, 512)               1573376   \n",
      "_________________________________________________________________\n",
      "batch_normalization_4 (Batch (None, 512)               2048      \n",
      "_________________________________________________________________\n",
      "hidden_layer2 (Dense)        (None, 256)               131328    \n",
      "_________________________________________________________________\n",
      "batch_normalization_5 (Batch (None, 256)               1024      \n",
      "_________________________________________________________________\n",
      "hidden_layer3 (Dense)        (None, 128)               32896     \n",
      "_________________________________________________________________\n",
      "batch_normalization_6 (Batch (None, 128)               512       \n",
      "_________________________________________________________________\n",
      "output (Dense)               (None, 10)                1290      \n",
      "=================================================================\n",
      "Total params: 1,742,474\n",
      "Trainable params: 1,740,682\n",
      "Non-trainable params: 1,792\n",
      "_________________________________________________________________\n",
      "Train on 50000 samples, validate on 10000 samples\n",
      "Epoch 1/50\n",
      "50000/50000 [==============================] - 8s 166us/step - loss: 2.1874 - accuracy: 0.2762 - val_loss: 2.1359 - val_accuracy: 0.2047\n",
      "Epoch 2/50\n",
      "50000/50000 [==============================] - 8s 159us/step - loss: 1.7412 - accuracy: 0.3928 - val_loss: 1.9791 - val_accuracy: 0.3060\n",
      "Epoch 3/50\n",
      "50000/50000 [==============================] - 7s 146us/step - loss: 1.6198 - accuracy: 0.4351 - val_loss: 1.8281 - val_accuracy: 0.3692\n",
      "Epoch 4/50\n",
      "50000/50000 [==============================] - 7s 135us/step - loss: 1.5457 - accuracy: 0.4595 - val_loss: 1.7217 - val_accuracy: 0.4095\n",
      "Epoch 5/50\n",
      "50000/50000 [==============================] - 7s 132us/step - loss: 1.4876 - accuracy: 0.4789 - val_loss: 1.6473 - val_accuracy: 0.4291\n",
      "Epoch 6/50\n",
      "50000/50000 [==============================] - 7s 131us/step - loss: 1.4410 - accuracy: 0.4968 - val_loss: 1.6013 - val_accuracy: 0.4336\n",
      "Epoch 7/50\n",
      "50000/50000 [==============================] - 7s 133us/step - loss: 1.4023 - accuracy: 0.5092 - val_loss: 1.5586 - val_accuracy: 0.4497\n",
      "Epoch 8/50\n",
      "50000/50000 [==============================] - 7s 134us/step - loss: 1.3645 - accuracy: 0.5240 - val_loss: 1.5222 - val_accuracy: 0.4600\n",
      "Epoch 9/50\n",
      "50000/50000 [==============================] - 7s 134us/step - loss: 1.3320 - accuracy: 0.5355 - val_loss: 1.4983 - val_accuracy: 0.4715\n",
      "Epoch 10/50\n",
      "50000/50000 [==============================] - 7s 136us/step - loss: 1.3004 - accuracy: 0.5478 - val_loss: 1.5014 - val_accuracy: 0.4668\n",
      "Epoch 11/50\n",
      "50000/50000 [==============================] - 7s 132us/step - loss: 1.2707 - accuracy: 0.5584 - val_loss: 1.4865 - val_accuracy: 0.4701\n",
      "Epoch 12/50\n",
      "50000/50000 [==============================] - 7s 138us/step - loss: 1.2434 - accuracy: 0.5703 - val_loss: 1.4787 - val_accuracy: 0.4750\n",
      "Epoch 13/50\n",
      "50000/50000 [==============================] - 7s 135us/step - loss: 1.2180 - accuracy: 0.5793 - val_loss: 1.4730 - val_accuracy: 0.4793\n",
      "Epoch 14/50\n",
      "50000/50000 [==============================] - 7s 132us/step - loss: 1.1929 - accuracy: 0.5887 - val_loss: 1.4642 - val_accuracy: 0.4853\n",
      "Epoch 15/50\n",
      "50000/50000 [==============================] - 7s 132us/step - loss: 1.1680 - accuracy: 0.5995 - val_loss: 1.4578 - val_accuracy: 0.4884\n",
      "Epoch 16/50\n",
      "50000/50000 [==============================] - 7s 134us/step - loss: 1.1449 - accuracy: 0.6080 - val_loss: 1.4650 - val_accuracy: 0.4841\n",
      "Epoch 17/50\n",
      "50000/50000 [==============================] - 7s 137us/step - loss: 1.1203 - accuracy: 0.6175 - val_loss: 1.4587 - val_accuracy: 0.4868\n",
      "Epoch 18/50\n",
      "50000/50000 [==============================] - 7s 140us/step - loss: 1.0955 - accuracy: 0.6269 - val_loss: 1.4567 - val_accuracy: 0.4881\n",
      "Epoch 19/50\n",
      "50000/50000 [==============================] - 8s 152us/step - loss: 1.0726 - accuracy: 0.6362 - val_loss: 1.4719 - val_accuracy: 0.4872\n",
      "Epoch 20/50\n",
      "50000/50000 [==============================] - 7s 132us/step - loss: 1.0513 - accuracy: 0.6452 - val_loss: 1.4531 - val_accuracy: 0.4932\n",
      "Epoch 21/50\n",
      "50000/50000 [==============================] - 7s 136us/step - loss: 1.0286 - accuracy: 0.6538 - val_loss: 1.4588 - val_accuracy: 0.4910\n",
      "Epoch 22/50\n",
      "50000/50000 [==============================] - 7s 138us/step - loss: 1.0061 - accuracy: 0.6627 - val_loss: 1.4616 - val_accuracy: 0.4883\n",
      "Epoch 23/50\n",
      "50000/50000 [==============================] - 7s 133us/step - loss: 0.9843 - accuracy: 0.6707 - val_loss: 1.4569 - val_accuracy: 0.4977\n",
      "Epoch 24/50\n",
      "50000/50000 [==============================] - 7s 136us/step - loss: 0.9623 - accuracy: 0.6802 - val_loss: 1.4698 - val_accuracy: 0.4922\n",
      "Epoch 25/50\n",
      "50000/50000 [==============================] - 7s 134us/step - loss: 0.9414 - accuracy: 0.6883 - val_loss: 1.4705 - val_accuracy: 0.4910\n",
      "Epoch 26/50\n",
      "50000/50000 [==============================] - 7s 132us/step - loss: 0.9228 - accuracy: 0.6939 - val_loss: 1.4922 - val_accuracy: 0.4842\n",
      "Epoch 27/50\n",
      "50000/50000 [==============================] - 7s 134us/step - loss: 0.9021 - accuracy: 0.7033 - val_loss: 1.4754 - val_accuracy: 0.4965\n",
      "Epoch 28/50\n",
      "50000/50000 [==============================] - 7s 137us/step - loss: 0.8802 - accuracy: 0.7118 - val_loss: 1.4845 - val_accuracy: 0.4914\n",
      "Epoch 00028: early stopping\n"
     ]
    }
   ],
   "source": [
    "# 載入 Callbacks\n",
    "\"\"\"Code Here\n",
    "設定 callbacks: Earlystop\n",
    "\"\"\"\n",
    "from keras.callbacks import EarlyStopping\n",
    "\n",
    "earlystop = EarlyStopping(monitor=\"val_accuracy\", \n",
    "                          patience=5, \n",
    "                          verbose=1\n",
    "                          )\n",
    "results = {}\n",
    "\"\"\"Code Here\n",
    "撰寫你的訓練流程並將結果用 dictionary 紀錄\n",
    "\"\"\"\n",
    "model = build_mlp(input_shape=x_train.shape[1:])\n",
    "model.summary()\n",
    "optimizer = keras.optimizers.SGD(lr=LEARNING_RATE, nesterov=True, momentum=MOMENTUM)\n",
    "model.compile(loss=\"categorical_crossentropy\", metrics=[\"accuracy\"], optimizer=optimizer)\n",
    "\n",
    "model.fit(x_train, y_train, \n",
    "          epochs=EPOCHS, \n",
    "          batch_size=BATCH_SIZE, \n",
    "          validation_data=(x_test, y_test), \n",
    "          shuffle=True,\n",
    "          callbacks=[earlystop]\n",
    "         )\n",
    "\n",
    "# Collect results\n",
    "train_loss = model.history.history[\"loss\"]\n",
    "valid_loss = model.history.history[\"val_loss\"]\n",
    "train_acc = model.history.history[\"accuracy\"]\n",
    "valid_acc = model.history.history[\"val_accuracy\"]"
   ]
  },
  {
   "cell_type": "code",
   "execution_count": 10,
   "metadata": {},
   "outputs": [
    {
     "data": {
      "image/png": "[encoded data removed]",
      "text/plain": [
       "<Figure size 432x288 with 1 Axes>"
      ]
     },
     "metadata": {
      "needs_background": "light"
     },
     "output_type": "display_data"
    },
    {
     "data": {
      "image/png": "[encoded data removed]",
      "text/plain": [
       "<Figure size 432x288 with 1 Axes>"
      ]
     },
     "metadata": {
      "needs_background": "light"
     },
     "output_type": "display_data"
    }
   ],
   "source": [
    "import matplotlib.pyplot as plt\n",
    "%matplotlib inline\n",
    "\n",
    "plt.plot(range(len(train_loss)), train_loss, label=\"train loss\")\n",
    "plt.plot(range(len(valid_loss)), valid_loss, label=\"valid loss\")\n",
    "plt.legend()\n",
    "plt.title(\"Loss\")\n",
    "plt.show()\n",
    "\n",
    "plt.plot(range(len(train_acc)), train_acc, label=\"train accuracy\")\n",
    "plt.plot(range(len(valid_acc)), valid_acc, label=\"valid accuracy\")\n",
    "plt.legend()\n",
    "plt.title(\"Accuracy\")\n",
    "plt.show()"
   ]
  },
  {
   "cell_type": "code",
   "execution_count": null,
   "metadata": {},
   "outputs": [],
   "source": []
  }
 ],
 "metadata": {
  "kernelspec": {
   "display_name": "Python 3",
   "language": "python",
   "name": "python3"
  },
  "language_info": {
   "codemirror_mode": {
    "name": "ipython",
    "version": 3
   },
   "file_extension": ".py",
   "mimetype": "text/x-python",
   "name": "python",
   "nbconvert_exporter": "python",
   "pygments_lexer": "ipython3",
   "version": "3.7.1"
  }
 },
 "nbformat": 4,
 "nbformat_minor": 2
}
