{
 "cells": [
  {
   "cell_type": "markdown",
   "metadata": {},
   "source": [
    "## Work\n",
    "1. 請比較使用不同層數以及不同 Dropout rate 對訓練的效果\n",
    "2. 將 optimizer 改成使用 Adam 並加上適當的 dropout rate 檢視結果"
   ]
  },
  {
   "cell_type": "code",
   "execution_count": 1,
   "metadata": {},
   "outputs": [
    {
     "name": "stderr",
     "output_type": "stream",
     "text": [
      "Using TensorFlow backend.\n"
     ]
    }
   ],
   "source": [
    "import os\n",
    "import keras\n",
    "import itertools\n",
    "# Disable GPU\n",
    "os.environ[\"CUDA_VISIBLE_DEVICES\"] = \"\""
   ]
  },
  {
   "cell_type": "code",
   "execution_count": 2,
   "metadata": {},
   "outputs": [],
   "source": [
    "train, test = keras.datasets.cifar10.load_data()"
   ]
  },
  {
   "cell_type": "code",
   "execution_count": 3,
   "metadata": {},
   "outputs": [],
   "source": [
    "## 資料前處理\n",
    "def preproc_x(x, flatten=True):\n",
    "    x = x / 255.\n",
    "    if flatten:\n",
    "        x = x.reshape((len(x), -1))\n",
    "    return x\n",
    "\n",
    "def preproc_y(y, num_classes=10):\n",
    "    if y.shape[-1] == 1:\n",
    "        y = keras.utils.to_categorical(y, num_classes)\n",
    "    return y    "
   ]
  },
  {
   "cell_type": "code",
   "execution_count": 4,
   "metadata": {},
   "outputs": [],
   "source": [
    "x_train, y_train = train\n",
    "x_test, y_test = test\n",
    "\n",
    "# Preproc the inputs\n",
    "x_train = preproc_x(x_train)\n",
    "x_test = preproc_x(x_test)\n",
    "\n",
    "# Preprc the outputs\n",
    "y_train = preproc_y(y_train)\n",
    "y_test = preproc_y(y_test)"
   ]
  },
  {
   "cell_type": "code",
   "execution_count": 5,
   "metadata": {},
   "outputs": [],
   "source": [
    "from keras.layers import Dropout\n",
    "def build_mlp(input_shape, output_units=10, num_neurons=[512, 256, 128], drp_ratio=0.2):\n",
    "    input_layer = keras.layers.Input(input_shape)\n",
    "    \n",
    "    for i, n_units in enumerate(num_neurons):\n",
    "        if i == 0:\n",
    "            x = keras.layers.Dense(units=n_units, \n",
    "                                   activation=\"relu\", \n",
    "                                   name=\"hidden_layer\"+str(i+1))(input_layer)\n",
    "            x = Dropout(drp_ratio)(x)\n",
    "        else:\n",
    "            x = keras.layers.Dense(units=n_units, \n",
    "                                   activation=\"relu\", \n",
    "                                   name=\"hidden_layer\"+str(i+1))(x)\n",
    "            x = Dropout(drp_ratio)(x)\n",
    "    \n",
    "    out = keras.layers.Dense(units=output_units, activation=\"softmax\", name=\"output\")(x)\n",
    "    \n",
    "    model = keras.models.Model(inputs=[input_layer], outputs=[out])\n",
    "    return model"
   ]
  },
  {
   "cell_type": "code",
   "execution_count": 6,
   "metadata": {},
   "outputs": [],
   "source": [
    "\"\"\"Code Here\n",
    "設定超參數\n",
    "\"\"\"\n",
    "LEARNING_RATE = 1e-3\n",
    "EPOCHS = 50\n",
    "BATCH_SIZE = 256\n",
    "MOMENTUM = 0.95\n",
    "Dropout_EXP = 0.3"
   ]
  },
  {
   "cell_type": "code",
   "execution_count": 8,
   "metadata": {
    "scrolled": true
   },
   "outputs": [
    {
     "name": "stdout",
     "output_type": "stream",
     "text": [
      "Model: \"model_2\"\n",
      "_________________________________________________________________\n",
      "Layer (type)                 Output Shape              Param #   \n",
      "=================================================================\n",
      "input_2 (InputLayer)         (None, 3072)              0         \n",
      "_________________________________________________________________\n",
      "hidden_layer1 (Dense)        (None, 512)               1573376   \n",
      "_________________________________________________________________\n",
      "dropout_4 (Dropout)          (None, 512)               0         \n",
      "_________________________________________________________________\n",
      "hidden_layer2 (Dense)        (None, 256)               131328    \n",
      "_________________________________________________________________\n",
      "dropout_5 (Dropout)          (None, 256)               0         \n",
      "_________________________________________________________________\n",
      "hidden_layer3 (Dense)        (None, 128)               32896     \n",
      "_________________________________________________________________\n",
      "dropout_6 (Dropout)          (None, 128)               0         \n",
      "_________________________________________________________________\n",
      "output (Dense)               (None, 10)                1290      \n",
      "=================================================================\n",
      "Total params: 1,738,890\n",
      "Trainable params: 1,738,890\n",
      "Non-trainable params: 0\n",
      "_________________________________________________________________\n",
      "Train on 50000 samples, validate on 10000 samples\n",
      "Epoch 1/50\n",
      "50000/50000 [==============================] - 11s 219us/step - loss: 2.0977 - accuracy: 0.2226 - val_loss: 1.9092 - val_accuracy: 0.3159\n",
      "Epoch 2/50\n",
      "50000/50000 [==============================] - 10s 202us/step - loss: 1.9245 - accuracy: 0.2975 - val_loss: 1.8164 - val_accuracy: 0.3550\n",
      "Epoch 3/50\n",
      "50000/50000 [==============================] - 10s 201us/step - loss: 1.8701 - accuracy: 0.3214 - val_loss: 1.7554 - val_accuracy: 0.3772\n",
      "Epoch 4/50\n",
      "50000/50000 [==============================] - 10s 200us/step - loss: 1.8350 - accuracy: 0.3341 - val_loss: 1.7535 - val_accuracy: 0.3786\n",
      "Epoch 5/50\n",
      "50000/50000 [==============================] - 10s 202us/step - loss: 1.8022 - accuracy: 0.3447 - val_loss: 1.6912 - val_accuracy: 0.3981\n",
      "Epoch 6/50\n",
      "50000/50000 [==============================] - 10s 204us/step - loss: 1.7810 - accuracy: 0.3537 - val_loss: 1.6986 - val_accuracy: 0.4023\n",
      "Epoch 7/50\n",
      "50000/50000 [==============================] - 10s 205us/step - loss: 1.7568 - accuracy: 0.3634 - val_loss: 1.6976 - val_accuracy: 0.4026\n",
      "Epoch 8/50\n",
      "50000/50000 [==============================] - 10s 201us/step - loss: 1.7534 - accuracy: 0.3663 - val_loss: 1.6901 - val_accuracy: 0.4096\n",
      "Epoch 9/50\n",
      "50000/50000 [==============================] - 10s 200us/step - loss: 1.7317 - accuracy: 0.3733 - val_loss: 1.6358 - val_accuracy: 0.4299\n",
      "Epoch 10/50\n",
      "50000/50000 [==============================] - 10s 200us/step - loss: 1.7172 - accuracy: 0.3755 - val_loss: 1.6429 - val_accuracy: 0.4238\n",
      "Epoch 11/50\n",
      "50000/50000 [==============================] - 10s 201us/step - loss: 1.7079 - accuracy: 0.3827 - val_loss: 1.6220 - val_accuracy: 0.4392\n",
      "Epoch 12/50\n",
      "50000/50000 [==============================] - 10s 199us/step - loss: 1.7010 - accuracy: 0.3852 - val_loss: 1.6155 - val_accuracy: 0.4397\n",
      "Epoch 13/50\n",
      "50000/50000 [==============================] - 10s 199us/step - loss: 1.6952 - accuracy: 0.3889 - val_loss: 1.5969 - val_accuracy: 0.4415\n",
      "Epoch 14/50\n",
      "50000/50000 [==============================] - 10s 200us/step - loss: 1.6924 - accuracy: 0.3866 - val_loss: 1.6041 - val_accuracy: 0.4412\n",
      "Epoch 15/50\n",
      "50000/50000 [==============================] - 10s 200us/step - loss: 1.6772 - accuracy: 0.3947 - val_loss: 1.5943 - val_accuracy: 0.4437\n",
      "Epoch 16/50\n",
      "50000/50000 [==============================] - 10s 200us/step - loss: 1.6722 - accuracy: 0.3934 - val_loss: 1.5982 - val_accuracy: 0.4341\n",
      "Epoch 17/50\n",
      "50000/50000 [==============================] - 10s 202us/step - loss: 1.6599 - accuracy: 0.4012 - val_loss: 1.6201 - val_accuracy: 0.4291\n",
      "Epoch 18/50\n",
      "50000/50000 [==============================] - 10s 202us/step - loss: 1.6528 - accuracy: 0.4021 - val_loss: 1.5756 - val_accuracy: 0.4466\n",
      "Epoch 19/50\n",
      "50000/50000 [==============================] - 10s 202us/step - loss: 1.6479 - accuracy: 0.4058 - val_loss: 1.5747 - val_accuracy: 0.4487\n",
      "Epoch 20/50\n",
      "50000/50000 [==============================] - 10s 202us/step - loss: 1.6433 - accuracy: 0.4061 - val_loss: 1.5983 - val_accuracy: 0.4408\n",
      "Epoch 21/50\n",
      "50000/50000 [==============================] - 10s 202us/step - loss: 1.6481 - accuracy: 0.4081 - val_loss: 1.5876 - val_accuracy: 0.4442\n",
      "Epoch 22/50\n",
      "50000/50000 [==============================] - 10s 203us/step - loss: 1.6419 - accuracy: 0.4068 - val_loss: 1.6015 - val_accuracy: 0.4382\n",
      "Epoch 23/50\n",
      "50000/50000 [==============================] - 10s 205us/step - loss: 1.6340 - accuracy: 0.4097 - val_loss: 1.5810 - val_accuracy: 0.4452\n",
      "Epoch 24/50\n",
      "50000/50000 [==============================] - 12s 241us/step - loss: 1.6319 - accuracy: 0.4114 - val_loss: 1.5581 - val_accuracy: 0.4493\n",
      "Epoch 25/50\n",
      "50000/50000 [==============================] - 10s 205us/step - loss: 1.6243 - accuracy: 0.4143 - val_loss: 1.5667 - val_accuracy: 0.4504\n",
      "Epoch 26/50\n",
      "50000/50000 [==============================] - 10s 207us/step - loss: 1.6141 - accuracy: 0.4179 - val_loss: 1.5297 - val_accuracy: 0.4601\n",
      "Epoch 27/50\n",
      "50000/50000 [==============================] - 10s 209us/step - loss: 1.6103 - accuracy: 0.4198 - val_loss: 1.5385 - val_accuracy: 0.4587\n",
      "Epoch 28/50\n",
      "50000/50000 [==============================] - 10s 201us/step - loss: 1.6152 - accuracy: 0.4165 - val_loss: 1.6121 - val_accuracy: 0.4326\n",
      "Epoch 29/50\n",
      "50000/50000 [==============================] - 10s 203us/step - loss: 1.6045 - accuracy: 0.4203 - val_loss: 1.5324 - val_accuracy: 0.4588\n",
      "Epoch 30/50\n",
      "50000/50000 [==============================] - 10s 202us/step - loss: 1.6085 - accuracy: 0.4198 - val_loss: 1.5466 - val_accuracy: 0.4551\n",
      "Epoch 31/50\n",
      "50000/50000 [==============================] - 10s 202us/step - loss: 1.5969 - accuracy: 0.4230 - val_loss: 1.5367 - val_accuracy: 0.4625\n",
      "Epoch 32/50\n",
      "50000/50000 [==============================] - 10s 202us/step - loss: 1.5982 - accuracy: 0.4224 - val_loss: 1.5405 - val_accuracy: 0.4586\n",
      "Epoch 33/50\n",
      "50000/50000 [==============================] - 10s 203us/step - loss: 1.5887 - accuracy: 0.4263 - val_loss: 1.5297 - val_accuracy: 0.4551\n",
      "Epoch 34/50\n",
      "50000/50000 [==============================] - 10s 204us/step - loss: 1.5921 - accuracy: 0.4232 - val_loss: 1.5284 - val_accuracy: 0.4614\n",
      "Epoch 35/50\n",
      "50000/50000 [==============================] - 10s 206us/step - loss: 1.5856 - accuracy: 0.4261 - val_loss: 1.5135 - val_accuracy: 0.4676\n",
      "Epoch 36/50\n",
      "50000/50000 [==============================] - 10s 203us/step - loss: 1.5858 - accuracy: 0.4270 - val_loss: 1.5214 - val_accuracy: 0.4633\n",
      "Epoch 37/50\n",
      "50000/50000 [==============================] - 11s 212us/step - loss: 1.5747 - accuracy: 0.4322 - val_loss: 1.5105 - val_accuracy: 0.4679\n",
      "Epoch 38/50\n",
      "50000/50000 [==============================] - 10s 205us/step - loss: 1.5724 - accuracy: 0.4316 - val_loss: 1.5549 - val_accuracy: 0.4604\n",
      "Epoch 39/50\n",
      "50000/50000 [==============================] - 10s 204us/step - loss: 1.5781 - accuracy: 0.4293 - val_loss: 1.5167 - val_accuracy: 0.4627\n",
      "Epoch 40/50\n",
      "50000/50000 [==============================] - 10s 207us/step - loss: 1.5780 - accuracy: 0.4299 - val_loss: 1.5314 - val_accuracy: 0.4632\n",
      "Epoch 41/50\n",
      "50000/50000 [==============================] - 10s 203us/step - loss: 1.5747 - accuracy: 0.4288 - val_loss: 1.5109 - val_accuracy: 0.4732\n",
      "Epoch 42/50\n",
      "50000/50000 [==============================] - 10s 206us/step - loss: 1.5699 - accuracy: 0.4335 - val_loss: 1.5280 - val_accuracy: 0.4566\n",
      "Epoch 43/50\n",
      "50000/50000 [==============================] - 10s 203us/step - loss: 1.5678 - accuracy: 0.4346 - val_loss: 1.5310 - val_accuracy: 0.4501\n",
      "Epoch 44/50\n",
      "50000/50000 [==============================] - 10s 203us/step - loss: 1.5630 - accuracy: 0.4363 - val_loss: 1.4982 - val_accuracy: 0.4737\n",
      "Epoch 45/50\n",
      "50000/50000 [==============================] - 10s 203us/step - loss: 1.5538 - accuracy: 0.4392 - val_loss: 1.5164 - val_accuracy: 0.4637\n"
     ]
    },
    {
     "name": "stdout",
     "output_type": "stream",
     "text": [
      "Epoch 46/50\n",
      "50000/50000 [==============================] - 10s 199us/step - loss: 1.5582 - accuracy: 0.4385 - val_loss: 1.4943 - val_accuracy: 0.4704\n",
      "Epoch 47/50\n",
      "50000/50000 [==============================] - 10s 199us/step - loss: 1.5569 - accuracy: 0.4374 - val_loss: 1.5304 - val_accuracy: 0.4617\n",
      "Epoch 48/50\n",
      "50000/50000 [==============================] - 10s 198us/step - loss: 1.5528 - accuracy: 0.4418 - val_loss: 1.5164 - val_accuracy: 0.4685\n",
      "Epoch 49/50\n",
      "50000/50000 [==============================] - 10s 201us/step - loss: 1.5522 - accuracy: 0.4396 - val_loss: 1.5099 - val_accuracy: 0.4658\n",
      "Epoch 50/50\n",
      "50000/50000 [==============================] - 10s 199us/step - loss: 1.5491 - accuracy: 0.4421 - val_loss: 1.4968 - val_accuracy: 0.4616\n"
     ]
    }
   ],
   "source": [
    "results = {}\n",
    "\"\"\"Code Here\n",
    "撰寫你的訓練流程並將結果用 dictionary 紀錄\n",
    "\"\"\"\n",
    "model = build_mlp(input_shape=x_train.shape[1:], drp_ratio=Dropout_EXP)\n",
    "model.summary()\n",
    "optimizer = keras.optimizers.Adam(lr=LEARNING_RATE, beta_1=0.9, beta_2=0.999)\n",
    "model.compile(loss=\"categorical_crossentropy\", metrics=[\"accuracy\"], optimizer=optimizer)\n",
    "\n",
    "model.fit(x_train, y_train, \n",
    "          epochs=EPOCHS, \n",
    "          batch_size=BATCH_SIZE, \n",
    "          validation_data=(x_test, y_test), \n",
    "          shuffle=True)\n",
    "\n",
    "# Collect results\n",
    "train_loss = model.history.history[\"loss\"]\n",
    "valid_loss = model.history.history[\"val_loss\"]\n",
    "train_acc = model.history.history[\"accuracy\"]\n",
    "valid_acc = model.history.history[\"val_accuracy\"]"
   ]
  },
  {
   "cell_type": "code",
   "execution_count": 9,
   "metadata": {},
   "outputs": [
    {
     "data": {
      "image/png": "[encoded data removed]",
      "text/plain": [
       "<Figure size 432x288 with 1 Axes>"
      ]
     },
     "metadata": {
      "needs_background": "light"
     },
     "output_type": "display_data"
    },
    {
     "data": {
      "image/png": "[encoded data removed]",
      "text/plain": [
       "<Figure size 432x288 with 1 Axes>"
      ]
     },
     "metadata": {
      "needs_background": "light"
     },
     "output_type": "display_data"
    }
   ],
   "source": [
    "import matplotlib.pyplot as plt\n",
    "%matplotlib inline\n",
    "\n",
    "plt.plot(range(len(train_loss)), train_loss, label=\"train loss\")\n",
    "plt.plot(range(len(valid_loss)), valid_loss, label=\"valid loss\")\n",
    "plt.legend()\n",
    "plt.title(\"Loss\")\n",
    "plt.show()\n",
    "\n",
    "plt.plot(range(len(train_acc)), train_acc, label=\"train accuracy\")\n",
    "plt.plot(range(len(valid_acc)), valid_acc, label=\"valid accuracy\")\n",
    "plt.legend()\n",
    "plt.title(\"Accuracy\")\n",
    "plt.show()"
   ]
  },
  {
   "cell_type": "code",
   "execution_count": null,
   "metadata": {},
   "outputs": [],
   "source": []
  }
 ],
 "metadata": {
  "kernelspec": {
   "display_name": "Python 3",
   "language": "python",
   "name": "python3"
  },
  "language_info": {
   "codemirror_mode": {
    "name": "ipython",
    "version": 3
   },
   "file_extension": ".py",
   "mimetype": "text/x-python",
   "name": "python",
   "nbconvert_exporter": "python",
   "pygments_lexer": "ipython3",
   "version": "3.7.1"
  }
 },
 "nbformat": 4,
 "nbformat_minor": 2
}
